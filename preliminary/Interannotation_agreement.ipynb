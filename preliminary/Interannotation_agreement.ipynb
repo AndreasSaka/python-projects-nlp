{
  "nbformat": 4,
  "nbformat_minor": 0,
  "metadata": {
    "colab": {
      "name": "Interannotation agreement.ipynb",
      "provenance": []
    },
    "kernelspec": {
      "name": "python3",
      "display_name": "Python 3"
    }
  },
  "cells": [
    {
      "cell_type": "code",
      "metadata": {
        "id": "oPTl7VX4Xg3L"
      },
      "source": [
        "!rm -r /content/sample_data"
      ],
      "execution_count": null,
      "outputs": []
    },
    {
      "cell_type": "code",
      "metadata": {
        "id": "MtTCSJtOXphL"
      },
      "source": [
        "%mkdir an_data"
      ],
      "execution_count": null,
      "outputs": []
    },
    {
      "cell_type": "code",
      "metadata": {
        "id": "TcyWQ_o1Xsed"
      },
      "source": [
        "%cd /content/an_data"
      ],
      "execution_count": null,
      "outputs": []
    },
    {
      "cell_type": "code",
      "metadata": {
        "id": "-CFStPlhXt0N"
      },
      "source": [
        "from google.colab import files #Upload the annotated text files from local drive\n",
        "files.upload()"
      ],
      "execution_count": null,
      "outputs": []
    },
    {
      "cell_type": "code",
      "metadata": {
        "id": "ZtFYlhUiXxr6"
      },
      "source": [
        "import nltk, re, string, unicodedata, inflect, glob, os\n",
        "import re\n",
        "from nltk.corpus.reader.plaintext import PlaintextCorpusReader\n",
        "import numpy as np \n",
        "import pandas as pd                                 #for data manipulation and analysis\n",
        "from nltk.corpus import stopwords                   #Stopwords corpus\n",
        "from nltk.stem import PorterStemmer \n",
        "from nltk.tokenize import RegexpTokenizer\n",
        "from string import punctuation\n",
        "from nltk import word_tokenize, sent_tokenize\n",
        "from nltk.corpus import stopwords\n",
        "from nltk.stem import LancasterStemmer, WordNetLemmatizer\n",
        "from nltk.tokenize import TreebankWordTokenizer\n",
        "nltk.download('stopwords')\n",
        "nltk.download('punkt')\n",
        "nltk.download('wordnet')\n",
        "nltk.download('averaged_perceptron_tagger')"
      ],
      "execution_count": null,
      "outputs": []
    },
    {
      "cell_type": "code",
      "metadata": {
        "id": "R5KMYt2HXzeO"
      },
      "source": [
        "for dirname, _, filenames in os.walk('/content/an_data'):\n",
        "    for filename in filenames:\n",
        "        print(os.path.join(dirname, filename))"
      ],
      "execution_count": null,
      "outputs": []
    },
    {
      "cell_type": "code",
      "metadata": {
        "id": "RNqaxY96X1PR"
      },
      "source": [
        "df = pd.concat([pd.read_csv(f, sep = '\\t', header = None) for f in glob.glob('*.tsv')], ignore_index = True)#bind the tsv files together in a single file"
      ],
      "execution_count": null,
      "outputs": []
    },
    {
      "cell_type": "code",
      "metadata": {
        "id": "Ir2hfA7JX-kE"
      },
      "source": [
        "df.columns = ['sentence','label']\n",
        "new_gene = df.loc[df[\"label\"] == \"gene\"]\n",
        "new_enzyme = df.loc[df[\"label\"] == \"enzyme\"]"
      ],
      "execution_count": null,
      "outputs": []
    },
    {
      "cell_type": "code",
      "metadata": {
        "id": "_gB52UWUgaHP",
        "colab": {
          "base_uri": "https://localhost:8080/",
          "height": 34
        },
        "outputId": "62d37440-032b-41be-a281-b1c66f1bf0f9"
      },
      "source": [
        "len(new_enzyme)"
      ],
      "execution_count": null,
      "outputs": [
        {
          "output_type": "execute_result",
          "data": {
            "text/plain": [
              "33"
            ]
          },
          "metadata": {
            "tags": []
          },
          "execution_count": 49
        }
      ]
    },
    {
      "cell_type": "code",
      "metadata": {
        "id": "Q_oCXNMJ-U8i"
      },
      "source": [
        "new_gene.to_csv(r'/content/new_gene.csv', index = False)\n"
      ],
      "execution_count": null,
      "outputs": []
    },
    {
      "cell_type": "code",
      "metadata": {
        "id": "GS5VGXz_AUI_"
      },
      "source": [
        "new_enzyme.to_csv(r'/content/new_enzyme.csv', index = False)"
      ],
      "execution_count": null,
      "outputs": []
    },
    {
      "cell_type": "code",
      "metadata": {
        "id": "8mrWvOrNy6Mp"
      },
      "source": [
        "new_gene = df.loc[df[\"label\"] == \"gene\"]\n"
      ],
      "execution_count": null,
      "outputs": []
    },
    {
      "cell_type": "code",
      "metadata": {
        "id": "pHcx1_OCy7R-",
        "colab": {
          "base_uri": "https://localhost:8080/",
          "height": 34
        },
        "outputId": "d4a06a96-306a-4273-9eb4-35a472d9c3a4"
      },
      "source": [
        "len(new_gene)"
      ],
      "execution_count": null,
      "outputs": [
        {
          "output_type": "execute_result",
          "data": {
            "text/plain": [
              "129"
            ]
          },
          "metadata": {
            "tags": []
          },
          "execution_count": 73
        }
      ]
    },
    {
      "cell_type": "code",
      "metadata": {
        "id": "3e6Ev4nPYQhi"
      },
      "source": [
        "%cd /content"
      ],
      "execution_count": null,
      "outputs": []
    },
    {
      "cell_type": "code",
      "metadata": {
        "id": "BjzCgkH1X3jl"
      },
      "source": [
        "with open('manual_sent.txt', 'w') as f:\n",
        "    for text in df[\"sentence\"].tolist():\n",
        "        f.write(text + '\\n')"
      ],
      "execution_count": null,
      "outputs": []
    },
    {
      "cell_type": "code",
      "metadata": {
        "id": "FWkcxeIlYPn2"
      },
      "source": [
        "with open(\"/content/manual_sent.txt\", 'rb') as corpus:\n",
        "  text_full = corpus.read()"
      ],
      "execution_count": null,
      "outputs": []
    },
    {
      "cell_type": "code",
      "metadata": {
        "id": "wZ-GtwS5YVon"
      },
      "source": [
        "def remove_between_square_brackets(text):\n",
        "    return re.sub('\\[[^]]*\\]', '', text)\n",
        "\n",
        "def denoise_text(text):\n",
        "    text = remove_between_square_brackets(text)\n",
        "    return text"
      ],
      "execution_count": null,
      "outputs": []
    },
    {
      "cell_type": "code",
      "metadata": {
        "id": "8Z0_dzwwYXxI"
      },
      "source": [
        "sample = denoise_text(str(text_full))"
      ],
      "execution_count": null,
      "outputs": []
    },
    {
      "cell_type": "code",
      "metadata": {
        "id": "nur8NjJ8YY-T"
      },
      "source": [
        "erst = sent_tokenize(str(sample))"
      ],
      "execution_count": null,
      "outputs": []
    },
    {
      "cell_type": "code",
      "metadata": {
        "id": "CWd3L1tKYaZc"
      },
      "source": [
        "erst"
      ],
      "execution_count": null,
      "outputs": []
    },
    {
      "cell_type": "markdown",
      "metadata": {
        "id": "gGBf8bkQh400"
      },
      "source": [
        "Pumed ids"
      ]
    },
    {
      "cell_type": "code",
      "metadata": {
        "id": "Eu_oJG5_h630"
      },
      "source": [
        "!pip install biopython\n",
        "!pip install --upgrade biopython\n",
        "!pip install metapub"
      ],
      "execution_count": null,
      "outputs": []
    },
    {
      "cell_type": "code",
      "metadata": {
        "id": "bZMNfbWBh7k0"
      },
      "source": [
        "import Bio\n",
        "import metapub\n",
        "from metapub import PubMedFetcher\n",
        "from Bio import Entrez\n",
        "from Bio import SeqIO\n",
        "from Bio.Entrez import efetch"
      ],
      "execution_count": null,
      "outputs": []
    },
    {
      "cell_type": "code",
      "metadata": {
        "id": "RwFkDwdFh8uB"
      },
      "source": [
        "pmid_new = \"15240330,21418495,20406281,22991035,21531434,24668245,3107671,8226980,16391099,24123738,24676750,22854895,30647456,28363960,24239819,24898178,15883866,17117994,22247165,23186529,20305027,22938719,24721596,20401686,20088886\""
      ],
      "execution_count": null,
      "outputs": []
    },
    {
      "cell_type": "code",
      "metadata": {
        "id": "BZ4rRrLjiF9c"
      },
      "source": [
        "Entrez.email = \"a.sakapetis@students.uu.nl\"\n",
        "handle = Entrez.efetch(db=\"pubmed\", id= pmid_new ,rettype=\"xml\", retmode=\"text\")\n",
        "records = Entrez.read(handle)"
      ],
      "execution_count": null,
      "outputs": []
    },
    {
      "cell_type": "code",
      "metadata": {
        "id": "km0BOA7qiHRw"
      },
      "source": [
        "abstract_dict = {}\n",
        "without_abstract = []\n",
        "\n",
        "for pubmed_article in records['PubmedArticle']:\n",
        "    pmid = int(str(pubmed_article['MedlineCitation']['PMID']))\n",
        "    article = pubmed_article['MedlineCitation']['Article']\n",
        "    if 'Abstract' in article:\n",
        "        abstract = article['Abstract']['AbstractText'][0]\n",
        "        abstract_dict[pmid] = abstract\n",
        "    else:\n",
        "       without_abstract.append(pmid)\n",
        "\n",
        "print(abstract_dict)\n",
        "print(without_abstract)"
      ],
      "execution_count": null,
      "outputs": []
    },
    {
      "cell_type": "code",
      "metadata": {
        "id": "dDDkBkyUiKHy"
      },
      "source": [
        "ab = pd.DataFrame(abstract_dict.items())\n",
        "ab.columns = (\"Pubmid\", \"Abstracts\")"
      ],
      "execution_count": null,
      "outputs": []
    },
    {
      "cell_type": "code",
      "metadata": {
        "id": "uiUKECkIiKw_"
      },
      "source": [
        "with open('abstracts_rest.txt', 'w') as f:\n",
        "    for text in ab[\"Abstracts\"].tolist():\n",
        "        f.write(text)"
      ],
      "execution_count": null,
      "outputs": []
    },
    {
      "cell_type": "code",
      "metadata": {
        "id": "NRcmX_pziM9P"
      },
      "source": [
        "with open(\"/content/abstracts_rest.txt\", 'rb') as corpus:\n",
        "  text_full = corpus.read()"
      ],
      "execution_count": null,
      "outputs": []
    },
    {
      "cell_type": "code",
      "metadata": {
        "id": "TwSNnCqFiO5B"
      },
      "source": [
        "def remove_between_square_brackets(text):\n",
        "    return re.sub('\\[[^]]*\\]', '', text)\n",
        "\n",
        "def denoise_text(text):\n",
        "    text = remove_between_square_brackets(text)\n",
        "    return text"
      ],
      "execution_count": null,
      "outputs": []
    },
    {
      "cell_type": "code",
      "metadata": {
        "id": "lN7NOUmEiP9G"
      },
      "source": [
        "sample = denoise_text(str(text_full))"
      ],
      "execution_count": null,
      "outputs": []
    },
    {
      "cell_type": "code",
      "metadata": {
        "id": "3BGYc4vJiRHU"
      },
      "source": [
        "sec = sent_tokenize(str(sample))"
      ],
      "execution_count": null,
      "outputs": []
    },
    {
      "cell_type": "code",
      "metadata": {
        "id": "u8PzlOvtiTvc"
      },
      "source": [
        "sec"
      ],
      "execution_count": null,
      "outputs": []
    },
    {
      "cell_type": "markdown",
      "metadata": {
        "id": "cQWLtEVEIrVT"
      },
      "source": [
        "Cohen Kappa"
      ]
    },
    {
      "cell_type": "code",
      "metadata": {
        "id": "zbXQTBK7IsZ4"
      },
      "source": [
        "from sklearn.metrics import cohen_kappa_score\n"
      ],
      "execution_count": null,
      "outputs": []
    },
    {
      "cell_type": "code",
      "metadata": {
        "id": "WDfjKzKGIs8e"
      },
      "source": [
        "labelA = [\"a\", \"b\", \"c\"]\n",
        "labelB = [\"d\", \"b\", \"c\"]"
      ],
      "execution_count": null,
      "outputs": []
    },
    {
      "cell_type": "code",
      "metadata": {
        "id": "fxzAkGYzJAUf"
      },
      "source": [
        "biologist = pd.read_csv (r'/content/manuall annotated sentence.csv')"
      ],
      "execution_count": null,
      "outputs": []
    },
    {
      "cell_type": "code",
      "metadata": {
        "id": "MGb_ijq2JSBE"
      },
      "source": [
        "script = pd.read_csv(r'/content/automaticall.csv')"
      ],
      "execution_count": null,
      "outputs": []
    },
    {
      "cell_type": "code",
      "metadata": {
        "id": "oy6dTp6MJZFU"
      },
      "source": [
        "labelA = biologist['Entity'].tolist()"
      ],
      "execution_count": null,
      "outputs": []
    },
    {
      "cell_type": "code",
      "metadata": {
        "id": "1Jpc-uePJluA"
      },
      "source": [
        "labelB = script['Tag'].tolist()"
      ],
      "execution_count": null,
      "outputs": []
    },
    {
      "cell_type": "code",
      "metadata": {
        "id": "RMOveNnTNoT7"
      },
      "source": [
        "from nltk.metrics import ConfusionMatrix"
      ],
      "execution_count": null,
      "outputs": []
    },
    {
      "cell_type": "code",
      "metadata": {
        "id": "8-4T-CGON9xf"
      },
      "source": [
        "from nltk.metrics import *"
      ],
      "execution_count": null,
      "outputs": []
    },
    {
      "cell_type": "code",
      "metadata": {
        "id": "9pFno2_kNQVG"
      },
      "source": [
        "cm = ConfusionMatrix(labelA,labelB)"
      ],
      "execution_count": null,
      "outputs": []
    },
    {
      "cell_type": "code",
      "metadata": {
        "id": "X5jZ2usZRV_2",
        "colab": {
          "base_uri": "https://localhost:8080/",
          "height": 283
        },
        "outputId": "4c802d3d-4cba-4c26-bcd8-1bc62549d866"
      },
      "source": [
        "print(cm)"
      ],
      "execution_count": null,
      "outputs": [
        {
          "output_type": "stream",
          "text": [
            "       |         B         I      |\n",
            "       |    B    -    I    -      |\n",
            "       |    -    G    -    G      |\n",
            "       |    E    E    E    E      |\n",
            "       |    N    N    N    N      |\n",
            "       |    Z    E    Z    E    O |\n",
            "-------+--------------------------+\n",
            " B-ENZ |  <18>   .    .    .    1 |\n",
            "B-GENE |    .  <86>   .    .    9 |\n",
            " I-ENZ |    .    .  <12>   .    2 |\n",
            "I-GENE |    .    .    .   <.>   2 |\n",
            "     O |   16   17    9    .<6488>|\n",
            "-------+--------------------------+\n",
            "(row = reference; col = test)\n",
            "\n"
          ],
          "name": "stdout"
        }
      ]
    },
    {
      "cell_type": "code",
      "metadata": {
        "id": "k-2-X7mXNTPd"
      },
      "source": [
        "import nltk\n"
      ],
      "execution_count": null,
      "outputs": []
    },
    {
      "cell_type": "code",
      "metadata": {
        "id": "SwsL4RZtI7pE",
        "colab": {
          "base_uri": "https://localhost:8080/",
          "height": 34
        },
        "outputId": "bd1c53d4-6a57-491e-bffb-43278988e74d"
      },
      "source": [
        "cohen_kappa_score(labelA, labelB)\n"
      ],
      "execution_count": null,
      "outputs": [
        {
          "output_type": "execute_result",
          "data": {
            "text/plain": [
              "0.8023335621139327"
            ]
          },
          "metadata": {
            "tags": []
          },
          "execution_count": 98
        }
      ]
    }
  ]
}