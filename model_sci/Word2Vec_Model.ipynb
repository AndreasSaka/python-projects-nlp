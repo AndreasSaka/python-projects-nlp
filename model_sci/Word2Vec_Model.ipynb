{
  "nbformat": 4,
  "nbformat_minor": 0,
  "metadata": {
    "colab": {
      "name": "Word2Vec Model.ipynb",
      "provenance": [],
      "collapsed_sections": []
    },
    "kernelspec": {
      "name": "python3",
      "display_name": "Python 3"
    }
  },
  "cells": [
    {
      "cell_type": "code",
      "metadata": {
        "id": "5xlbxWqwUC4e",
        "colab": {
          "base_uri": "https://localhost:8080/",
          "height": 199
        },
        "outputId": "38d07c79-c81c-426a-9b31-5bd9064cbdfd"
      },
      "source": [
        "import nltk, re, string, unicodedata, inflect, glob, os\n",
        "import re\n",
        "from nltk.corpus.reader.plaintext import PlaintextCorpusReader\n",
        "import numpy as np \n",
        "import pandas as pd                                 #for data manipulation and analysis\n",
        "from nltk.corpus import stopwords                   #Stopwords corpus\n",
        "from nltk.stem import PorterStemmer \n",
        "from nltk.tokenize import RegexpTokenizer\n",
        "from string import punctuation\n",
        "from nltk import word_tokenize, sent_tokenize\n",
        "from nltk.corpus import stopwords\n",
        "from nltk.stem import LancasterStemmer, WordNetLemmatizer\n",
        "nltk.download('stopwords')\n",
        "nltk.download('punkt')\n",
        "nltk.download('wordnet')\n",
        "nltk.download('averaged_perceptron_tagger')"
      ],
      "execution_count": null,
      "outputs": [
        {
          "output_type": "stream",
          "text": [
            "[nltk_data] Downloading package stopwords to /root/nltk_data...\n",
            "[nltk_data]   Unzipping corpora/stopwords.zip.\n",
            "[nltk_data] Downloading package punkt to /root/nltk_data...\n",
            "[nltk_data]   Unzipping tokenizers/punkt.zip.\n",
            "[nltk_data] Downloading package wordnet to /root/nltk_data...\n",
            "[nltk_data]   Unzipping corpora/wordnet.zip.\n",
            "[nltk_data] Downloading package averaged_perceptron_tagger to\n",
            "[nltk_data]     /root/nltk_data...\n",
            "[nltk_data]   Unzipping taggers/averaged_perceptron_tagger.zip.\n"
          ],
          "name": "stdout"
        },
        {
          "output_type": "execute_result",
          "data": {
            "text/plain": [
              "True"
            ]
          },
          "metadata": {
            "tags": []
          },
          "execution_count": 5
        }
      ]
    },
    {
      "cell_type": "code",
      "metadata": {
        "id": "tpdHaFv5Y7Se"
      },
      "source": [
        "import re  # For preprocessing\n",
        "import pandas as pd  # For data handling\n",
        "from time import time  # To time our operations\n",
        "from collections import defaultdict  # For word frequency\n",
        "\n",
        "import spacy  # For preprocessing\n",
        "\n",
        "import logging  # Setting up the loggings to monitor gensim\n",
        "logging.basicConfig(format=\"%(levelname)s - %(asctime)s: %(message)s\", datefmt= '%H:%M:%S', level=logging.INFO)"
      ],
      "execution_count": null,
      "outputs": []
    },
    {
      "cell_type": "code",
      "metadata": {
        "id": "HFdMyXO7e9pl"
      },
      "source": [
        "with open(\"/content/full_text.txt\", 'rb') as nai:\n",
        "  text = nai.read()"
      ],
      "execution_count": null,
      "outputs": []
    },
    {
      "cell_type": "code",
      "metadata": {
        "id": "OvTt11effclM"
      },
      "source": [
        "import multiprocessing\n",
        "import gensim \n",
        "import gensim.utils\n",
        "from gensim.models import Word2Vec"
      ],
      "execution_count": null,
      "outputs": []
    },
    {
      "cell_type": "code",
      "metadata": {
        "id": "aZXptqUvfdpL",
        "colab": {
          "base_uri": "https://localhost:8080/",
          "height": 35
        },
        "outputId": "5395f923-6b0a-4800-8ae3-a0a38298fd9e"
      },
      "source": [
        "cores = multiprocessing.cpu_count() # Count the number of cores in a computer\n",
        "cores"
      ],
      "execution_count": null,
      "outputs": [
        {
          "output_type": "execute_result",
          "data": {
            "text/plain": [
              "2"
            ]
          },
          "metadata": {
            "tags": []
          },
          "execution_count": 3
        }
      ]
    },
    {
      "cell_type": "code",
      "metadata": {
        "id": "rp16ka5Mfeq0"
      },
      "source": [
        "sentences = [nltk.word_tokenize(sent) for sent in nltk.sent_tokenize(str(text))]"
      ],
      "execution_count": null,
      "outputs": []
    },
    {
      "cell_type": "code",
      "metadata": {
        "id": "n_c1_9zIfqVo"
      },
      "source": [
        "w2v_model = Word2Vec(min_count=20,\n",
        "                     window=2,\n",
        "                     size=300,\n",
        "                     sample=6e-5, \n",
        "                     alpha=0.03, \n",
        "                     min_alpha=0.0007, \n",
        "                     negative=20,\n",
        "                     workers=cores-1)"
      ],
      "execution_count": null,
      "outputs": []
    },
    {
      "cell_type": "code",
      "metadata": {
        "id": "zLhZROyehXcD"
      },
      "source": [
        "w2v = gensim.models.Word2Vec.load(\"models/w2v.model\")"
      ],
      "execution_count": null,
      "outputs": []
    },
    {
      "cell_type": "code",
      "metadata": {
        "id": "xo8CN6ePg3dq",
        "colab": {
          "base_uri": "https://localhost:8080/",
          "height": 163
        },
        "outputId": "9cdffc6f-9abf-497a-8ece-156f35857977"
      },
      "source": [
        "!wget http://evexdb.org/pmresources/vec-space-models/PubMed-and-PMC-w2v.bin"
      ],
      "execution_count": null,
      "outputs": [
        {
          "output_type": "stream",
          "text": [
            "--2020-05-31 16:15:03--  http://evexdb.org/pmresources/vec-space-models/PubMed-and-PMC-w2v.bin\n",
            "Resolving evexdb.org (evexdb.org)... 130.232.253.44\n",
            "Connecting to evexdb.org (evexdb.org)|130.232.253.44|:80... connected.\n",
            "HTTP request sent, awaiting response... 200 OK\n",
            "Length: 3317501420 (3.1G) [application/octet-stream]\n",
            "Saving to: ‘PubMed-and-PMC-w2v.bin’\n",
            "\n",
            "PubMed-and-PMC-w2v.   3%[                    ] 121.37M  1014KB/s    eta 51m 36s^C\n"
          ],
          "name": "stdout"
        }
      ]
    },
    {
      "cell_type": "code",
      "metadata": {
        "id": "CF7W7cR3hduk",
        "colab": {
          "base_uri": "https://localhost:8080/",
          "height": 217
        },
        "outputId": "e8ac6fdd-41a1-48cd-c2a0-c45feaa8fff6"
      },
      "source": [
        "!wget http://evexdb.org/pmresources/vec-space-models/PMC-w2v.bin"
      ],
      "execution_count": null,
      "outputs": [
        {
          "output_type": "stream",
          "text": [
            "--2020-05-31 16:17:18--  http://evexdb.org/pmresources/vec-space-models/PMC-w2v.bin\n",
            "Resolving evexdb.org (evexdb.org)... 130.232.253.44\n",
            "Connecting to evexdb.org (evexdb.org)|130.232.253.44|:80... connected.\n",
            "HTTP request sent, awaiting response... 200 OK\n",
            "Length: 2040351350 (1.9G) [application/octet-stream]\n",
            "Saving to: ‘PMC-w2v.bin’\n",
            "\n",
            "PMC-w2v.bin         100%[===================>]   1.90G  1.01MB/s    in 32m 41s \n",
            "\n",
            "2020-05-31 16:50:00 (1016 KB/s) - ‘PMC-w2v.bin’ saved [2040351350/2040351350]\n",
            "\n"
          ],
          "name": "stdout"
        }
      ]
    },
    {
      "cell_type": "code",
      "metadata": {
        "id": "zJKx3W9LpltD",
        "colab": {
          "base_uri": "https://localhost:8080/",
          "height": 74
        },
        "outputId": "4db9f6f7-3142-48f3-eea2-dc970dd284c5"
      },
      "source": [
        "from gensim.test.utils import common_texts, get_tmpfile"
      ],
      "execution_count": null,
      "outputs": [
        {
          "output_type": "stream",
          "text": [
            "INFO - 16:52:45: adding document #0 to Dictionary(0 unique tokens: [])\n",
            "INFO - 16:52:45: built Dictionary(12 unique tokens: ['computer', 'human', 'interface', 'response', 'survey']...) from 9 documents (total 29 corpus positions)\n"
          ],
          "name": "stderr"
        }
      ]
    },
    {
      "cell_type": "code",
      "metadata": {
        "id": "jZVkUPIIpg0b"
      },
      "source": [
        "path = get_tmpfile(\"/content/PMC-w2v.bin\")"
      ],
      "execution_count": null,
      "outputs": []
    },
    {
      "cell_type": "code",
      "metadata": {
        "id": "zBDpXx-Hp9mC",
        "colab": {
          "base_uri": "https://localhost:8080/",
          "height": 110
        },
        "outputId": "62b8864c-7311-43ee-de92-36d05bb05de3"
      },
      "source": [
        "import gensim\n",
        "model = gensim.models.KeyedVectors.load_word2vec_format ('/content/PMC-w2v.bin', binary=True)\n"
      ],
      "execution_count": null,
      "outputs": [
        {
          "output_type": "stream",
          "text": [
            "INFO - 16:55:39: loading projection weights from /content/PMC-w2v.bin\n",
            "/usr/local/lib/python3.6/dist-packages/smart_open/smart_open_lib.py:253: UserWarning: This function is deprecated, use smart_open.open instead. See the migration notes for details: https://github.com/RaRe-Technologies/smart_open/blob/master/README.rst#migrating-to-the-new-open-function\n",
            "  'See the migration notes for details: %s' % _MIGRATION_NOTES_URL\n",
            "INFO - 16:56:07: loaded (2515686, 200) matrix from /content/PMC-w2v.bin\n"
          ],
          "name": "stderr"
        }
      ]
    },
    {
      "cell_type": "code",
      "metadata": {
        "id": "bAAZdVt-qTea"
      },
      "source": [
        "print(model.most_similar(positive=['woman', 'king'], negative=['man']))\n"
      ],
      "execution_count": null,
      "outputs": []
    },
    {
      "cell_type": "code",
      "metadata": {
        "id": "xKUbfwBJqXdS",
        "colab": {
          "base_uri": "https://localhost:8080/",
          "height": 292
        },
        "outputId": "1b040b27-4206-417c-ca74-d181898e82c0"
      },
      "source": [
        "model.wv.most_similar(positive=[\"gene\"])\n"
      ],
      "execution_count": null,
      "outputs": [
        {
          "output_type": "stream",
          "text": [
            "/usr/local/lib/python3.6/dist-packages/ipykernel_launcher.py:1: DeprecationWarning: Call to deprecated `wv` (Attribute will be removed in 4.0.0, use self instead).\n",
            "  \"\"\"Entry point for launching an IPython kernel.\n",
            "/usr/local/lib/python3.6/dist-packages/gensim/matutils.py:737: FutureWarning: Conversion of the second argument of issubdtype from `int` to `np.signedinteger` is deprecated. In future, it will be treated as `np.int64 == np.dtype(int).type`.\n",
            "  if np.issubdtype(vec.dtype, np.int):\n"
          ],
          "name": "stderr"
        },
        {
          "output_type": "execute_result",
          "data": {
            "text/plain": [
              "[('genes', 0.7276425361633301),\n",
              " ('locus', 0.6418459415435791),\n",
              " ('transcript', 0.6243889331817627),\n",
              " ('promoter', 0.613724946975708),\n",
              " ('instability-correlated', 0.6043727397918701),\n",
              " ('transgene', 0.5990813970565796),\n",
              " ('gene(s)', 0.5974688529968262),\n",
              " ('operon', 0.5946967601776123),\n",
              " ('DDB_G0281803', 0.5872200727462769),\n",
              " ('tissue-specific', 0.5820614099502563)]"
            ]
          },
          "metadata": {
            "tags": []
          },
          "execution_count": 29
        }
      ]
    },
    {
      "cell_type": "code",
      "metadata": {
        "id": "p6JOaOe0fqsl"
      },
      "source": [
        "t = time()\n",
        "\n",
        "model.build_vocab(sentences, progress_per=10000)\n",
        "\n",
        "print('Time to build vocab: {} mins'.format(round((time() - t) / 60, 2)))"
      ],
      "execution_count": null,
      "outputs": []
    },
    {
      "cell_type": "code",
      "metadata": {
        "id": "jfh-49hkfto8"
      },
      "source": [
        "t = time()\n",
        "\n",
        "w2v_model.train(sentences, total_examples=w2v_model.corpus_count, epochs=30, report_delay=1)\n",
        "\n",
        "print('Time to train the model: {} mins'.format(round((time() - t) / 60, 2)))"
      ],
      "execution_count": null,
      "outputs": []
    },
    {
      "cell_type": "code",
      "metadata": {
        "id": "sye9nH0pfuOG",
        "colab": {
          "base_uri": "https://localhost:8080/",
          "height": 255
        },
        "outputId": "d0a44d07-ce46-4371-9c42-cd534736f0c9"
      },
      "source": [
        "w2v_model.wv.most_similar(positive=[\"enzyme\"])\n"
      ],
      "execution_count": null,
      "outputs": [
        {
          "output_type": "stream",
          "text": [
            "/usr/local/lib/python3.6/dist-packages/gensim/matutils.py:737: FutureWarning: Conversion of the second argument of issubdtype from `int` to `np.signedinteger` is deprecated. In future, it will be treated as `np.int64 == np.dtype(int).type`.\n",
            "  if np.issubdtype(vec.dtype, np.int):\n"
          ],
          "name": "stderr"
        },
        {
          "output_type": "execute_result",
          "data": {
            "text/plain": [
              "[('purified', 0.9926730990409851),\n",
              " ('subunits', 0.9760609865188599),\n",
              " ('protein', 0.9747612476348877),\n",
              " ('reductase', 0.9732197523117065),\n",
              " ('identical', 0.9704747200012207),\n",
              " ('dehydrogenase', 0.9655677676200867),\n",
              " ('subunit', 0.9628738164901733),\n",
              " ('acid', 0.9609610438346863),\n",
              " ('dioxygenase', 0.9604526162147522),\n",
              " ('alpha', 0.9596236944198608)]"
            ]
          },
          "metadata": {
            "tags": []
          },
          "execution_count": 12
        }
      ]
    }
  ]
}