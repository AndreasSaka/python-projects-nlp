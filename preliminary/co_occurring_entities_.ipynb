{
  "nbformat": 4,
  "nbformat_minor": 0,
  "metadata": {
    "colab": {
      "name": "co_occurring entities .ipynb",
      "provenance": [],
      "collapsed_sections": []
    },
    "kernelspec": {
      "name": "python3",
      "display_name": "Python 3"
    }
  },
  "cells": [
    {
      "cell_type": "code",
      "metadata": {
        "id": "u-1S6M-0E6WK",
        "colab": {
          "base_uri": "https://localhost:8080/",
          "height": 51
        },
        "outputId": "43c2ac73-b775-444d-9d4a-6954519897f6"
      },
      "source": [
        "import sys\n",
        "from csv import reader\n",
        "import pandas as pd\n",
        "import nltk.data\n",
        "import re\n",
        "import nltk\n",
        "nltk.download('punkt')\n",
        "import numpy as np\n",
        "import json\n",
        "import requests"
      ],
      "execution_count": null,
      "outputs": [
        {
          "output_type": "stream",
          "text": [
            "[nltk_data] Downloading package punkt to /root/nltk_data...\n",
            "[nltk_data]   Unzipping tokenizers/punkt.zip.\n"
          ],
          "name": "stdout"
        }
      ]
    },
    {
      "cell_type": "code",
      "metadata": {
        "id": "2FGYapNyLS_0"
      },
      "source": [
        "!rm -r /content/sample_data"
      ],
      "execution_count": null,
      "outputs": []
    },
    {
      "cell_type": "code",
      "metadata": {
        "id": "uOmtOR9KJ-c7"
      },
      "source": [
        "file = open(\"/content/enzyme.txt\", \"r\")#import the results from the different models \n",
        "enzyme = file.read() \n",
        "file.close()"
      ],
      "execution_count": null,
      "outputs": []
    },
    {
      "cell_type": "code",
      "metadata": {
        "id": "va3AHNe3XY8c"
      },
      "source": [
        "file = open(\"/content/gene.txt\", \"r\")#import the results from the different models \n",
        "gene = file.read() \n",
        "file.close()"
      ],
      "execution_count": null,
      "outputs": []
    },
    {
      "cell_type": "code",
      "metadata": {
        "id": "xsqV4SDPavcv"
      },
      "source": [
        "file = open(\"/content/genia true.txt\", \"r\")#import the results from the different models \n",
        "output = file.read() \n",
        "file.close()"
      ],
      "execution_count": null,
      "outputs": []
    },
    {
      "cell_type": "code",
      "metadata": {
        "id": "UwaNNrkFJ1JF"
      },
      "source": [
        "def matching_function(list_input,list_w):\n",
        "  list_input = nltk.word_tokenize(list_input)\n",
        "  list_w = nltk.word_tokenize(list_w)\n",
        "  list_input = [word for word in list_input if len(word) > 3]#only regard words that are longer than two characters\n",
        "  list_w = [word for word in list_w if len(word) > 3]#only regard words that are longer than two characters\n",
        "  co_occuring_words = set(list_input) & set(list_w)#find cooccuring entities between the two collections\n",
        " #print(len(set(co_occuring_words = set(output) & set(enzyme))))#find cooccuring entities between the two collections\n",
        "  print(len(co_occuring_words))\n",
        "  for word_item in co_occuring_words:\n",
        "    print('string contains a word from the word list: %s' % (word_item))\n",
        "    "
      ],
      "execution_count": null,
      "outputs": []
    },
    {
      "cell_type": "code",
      "metadata": {
        "id": "qhgdGtjgNZvv",
        "colab": {
          "base_uri": "https://localhost:8080/",
          "height": 1000
        },
        "outputId": "eeafc3ef-fa7c-4285-ebbf-d3fbacbb399a"
      },
      "source": [
        "matching_function(output,enzyme)"
      ],
      "execution_count": null,
      "outputs": [
        {
          "output_type": "stream",
          "text": [
            "91\n",
            "string contains a word from the word list: benzoate\n",
            "string contains a word from the word list: vinyl\n",
            "string contains a word from the word list: versatile\n",
            "string contains a word from the word list: hydroxylase\n",
            "string contains a word from the word list: WaarsM\n",
            "string contains a word from the word list: synthase\n",
            "string contains a word from the word list: lyase\n",
            "string contains a word from the word list: esterase\n",
            "string contains a word from the word list: peroxidase\n",
            "string contains a word from the word list: methane\n",
            "string contains a word from the word list: carboxylase\n",
            "string contains a word from the word list: N-dealkylase\n",
            "string contains a word from the word list: propanil\n",
            "string contains a word from the word list: manganese\n",
            "string contains a word from the word list: ammonia\n",
            "string contains a word from the word list: hydroxylating\n",
            "string contains a word from the word list: manganese-dependent\n",
            "string contains a word from the word list: reductive\n",
            "string contains a word from the word list: flavin\n",
            "string contains a word from the word list: metalloprotease\n",
            "string contains a word from the word list: oxidoreductases\n",
            "string contains a word from the word list: acidic\n",
            "string contains a word from the word list: 4-NP\n",
            "string contains a word from the word list: methyltransferase\n",
            "string contains a word from the word list: catalase\n",
            "string contains a word from the word list: homo-oligomer\n",
            "string contains a word from the word list: dehydrogenase\n",
            "string contains a word from the word list: 2-carboxybenzaldehyde\n",
            "string contains a word from the word list: atrazine\n",
            "string contains a word from the word list: cytochrome\n",
            "string contains a word from the word list: reductase\n",
            "string contains a word from the word list: aminohydrolase\n",
            "string contains a word from the word list: decarboxylase\n",
            "string contains a word from the word list: salicylate\n",
            "string contains a word from the word list: oxidase\n",
            "string contains a word from the word list: ethylaminohydrolase\n",
            "string contains a word from the word list: UbiD\n",
            "string contains a word from the word list: oxygenase\n",
            "string contains a word from the word list: salicylaldehyde\n",
            "string contains a word from the word list: dicamba\n",
            "string contains a word from the word list: iron\n",
            "string contains a word from the word list: dismutase\n",
            "string contains a word from the word list: aldehyde\n",
            "string contains a word from the word list: nitrate\n",
            "string contains a word from the word list: naphthalene\n",
            "string contains a word from the word list: prenyltransferase\n",
            "string contains a word from the word list: nitroreductase\n",
            "string contains a word from the word list: UbiX-like\n",
            "string contains a word from the word list: isomerase\n",
            "string contains a word from the word list: amidohydrolase\n",
            "string contains a word from the word list: dehydrochlorinase\n",
            "string contains a word from the word list: dihydrodiol\n",
            "string contains a word from the word list: acetyl\n",
            "string contains a word from the word list: arsenic\n",
            "string contains a word from the word list: isophthalyl-CoA\n",
            "string contains a word from the word list: carboxylesterase\n",
            "string contains a word from the word list: acetylene-inhibited\n",
            "string contains a word from the word list: O-demethylase\n",
            "string contains a word from the word list: non-heme\n",
            "string contains a word from the word list: hydratase\n",
            "string contains a word from the word list: adenosine\n",
            "string contains a word from the word list: Ni-dependent\n",
            "string contains a word from the word list: dissimilatory\n",
            "string contains a word from the word list: ChlH\n",
            "string contains a word from the word list: toluene-4-monooxygenase\n",
            "string contains a word from the word list: chloride-to-ethene\n",
            "string contains a word from the word list: alkylsuccinate\n",
            "string contains a word from the word list: linuron\n",
            "string contains a word from the word list: peptidylprolyl\n",
            "string contains a word from the word list: catechol\n",
            "string contains a word from the word list: dioxygenases\n",
            "string contains a word from the word list: reductases\n",
            "string contains a word from the word list: monooxygenase\n",
            "string contains a word from the word list: alpha-ketoglutarate-dependent\n",
            "string contains a word from the word list: beta-xylosidase\n",
            "string contains a word from the word list: amidase\n",
            "string contains a word from the word list: family\n",
            "string contains a word from the word list: dehalogenase\n",
            "string contains a word from the word list: hydrolase\n",
            "string contains a word from the word list: acid\n",
            "string contains a word from the word list: laccase\n",
            "string contains a word from the word list: P450\n",
            "string contains a word from the word list: benzoyl-CoA\n",
            "string contains a word from the word list: urease\n",
            "string contains a word from the word list: NpsA2\n",
            "string contains a word from the word list: superoxide\n",
            "string contains a word from the word list: lignin\n",
            "string contains a word from the word list: ligase\n",
            "string contains a word from the word list: dioxygenase\n",
            "string contains a word from the word list: hydrolases\n",
            "string contains a word from the word list: UbiD-like\n"
          ],
          "name": "stdout"
        }
      ]
    },
    {
      "cell_type": "code",
      "metadata": {
        "id": "tqK4676-Z3jL",
        "colab": {
          "base_uri": "https://localhost:8080/",
          "height": 748
        },
        "outputId": "958eef5d-cec0-44ea-8b1f-b24e4937bcf2"
      },
      "source": [
        "matching_function(output,gene)"
      ],
      "execution_count": null,
      "outputs": [
        {
          "output_type": "stream",
          "text": [
            "42\n",
            "string contains a word from the word list: SadB\n",
            "string contains a word from the word list: atzR\n",
            "string contains a word from the word list: npsB\n",
            "string contains a word from the word list: npsRA2A1B\n",
            "string contains a word from the word list: tceA\n",
            "string contains a word from the word list: pBAM2\n",
            "string contains a word from the word list: trzN\n",
            "string contains a word from the word list: atzD\n",
            "string contains a word from the word list: HylA\n",
            "string contains a word from the word list: abcA\n",
            "string contains a word from the word list: SadA\n",
            "string contains a word from the word list: linA\n",
            "string contains a word from the word list: cndA\n",
            "string contains a word from the word list: atzB\n",
            "string contains a word from the word list: ampA\n",
            "string contains a word from the word list: masD\n",
            "string contains a word from the word list: BbdA\n",
            "string contains a word from the word list: nphRA1A2\n",
            "string contains a word from the word list: prpH\n",
            "string contains a word from the word list: P450\n",
            "string contains a word from the word list: FTHFS\n",
            "string contains a word from the word list: puhB\n",
            "string contains a word from the word list: cadA\n",
            "string contains a word from the word list: sdpA\n",
            "string contains a word from the word list: tfdA\n",
            "string contains a word from the word list: UbiX\n",
            "string contains a word from the word list: mnp2\n",
            "string contains a word from the word list: carA\n",
            "string contains a word from the word list: atzA\n",
            "string contains a word from the word list: puhA\n",
            "string contains a word from the word list: mnp1\n",
            "string contains a word from the word list: Cytochrome\n",
            "string contains a word from the word list: mnp3\n",
            "string contains a word from the word list: amoA\n",
            "string contains a word from the word list: libA\n",
            "string contains a word from the word list: vcrA\n",
            "string contains a word from the word list: nfsI\n",
            "string contains a word from the word list: rdpA\n",
            "string contains a word from the word list: atzC\n",
            "string contains a word from the word list: pdmAB\n",
            "string contains a word from the word list: SadC\n",
            "string contains a word from the word list: bamA\n"
          ],
          "name": "stdout"
        }
      ]
    }
  ]
}