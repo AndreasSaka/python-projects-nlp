{
  "nbformat": 4,
  "nbformat_minor": 0,
  "metadata": {
    "colab": {
      "name": "Abstract_Extraction.ipynb",
      "provenance": [],
      "collapsed_sections": [],
      "toc_visible": true,
      "machine_shape": "hm"
    },
    "kernelspec": {
      "name": "python3",
      "display_name": "Python 3"
    },
    "accelerator": "GPU"
  },
  "cells": [
    {
      "cell_type": "markdown",
      "metadata": {
        "id": "GawdTbYJ6D7a"
      },
      "source": [
        "**Installing Biopython**"
      ]
    },
    {
      "cell_type": "code",
      "metadata": {
        "id": "KfgvZDVn5_xh"
      },
      "source": [
        "!pip install biopython\n",
        "!pip install --upgrade biopython\n",
        "!pip install metapub"
      ],
      "execution_count": null,
      "outputs": []
    },
    {
      "cell_type": "code",
      "metadata": {
        "id": "9khRMT9G5nKO"
      },
      "source": [
        "import Bio\n",
        "import metapub\n",
        "from metapub import PubMedFetcher\n",
        "from Bio import Entrez\n",
        "from Bio import SeqIO\n",
        "from Bio.Entrez import efetch"
      ],
      "execution_count": null,
      "outputs": []
    },
    {
      "cell_type": "code",
      "metadata": {
        "id": "RxzXb2NN3m5_"
      },
      "source": [
        "import pandas as pd # Load the Pandas libraries with alias 'pd' "
      ],
      "execution_count": null,
      "outputs": []
    },
    {
      "cell_type": "code",
      "metadata": {
        "id": "ajr0L59d8AhV"
      },
      "source": [
        "# (in the same directory that the python process is based)\n",
        "#pmid = pd.read_csv(\"/content/only pubmid 799 from ewag.csv\",header=None)  # Control delimiters, rows, column names with read_csv (see later) \n",
        "#pmid = pd.read_csv(\"/content/combo 190 799.csv\", header=None) # Read data from file 'filename.csv"
      ],
      "execution_count": null,
      "outputs": []
    },
    {
      "cell_type": "code",
      "metadata": {
        "id": "Rt--25Qt3gdR"
      },
      "source": [
        "pmid = pd.read_csv(\"/content/826.txt\",header=None)"
      ],
      "execution_count": null,
      "outputs": []
    },
    {
      "cell_type": "code",
      "metadata": {
        "id": "73lJn0QOb3pJ"
      },
      "source": [
        "pmid = pmid.drop(pmid.columns[1], axis=1)"
      ],
      "execution_count": null,
      "outputs": []
    },
    {
      "cell_type": "code",
      "metadata": {
        "id": "sONRUkhW8Ae5"
      },
      "source": [
        "pmid.head() # Preview the first 5 lines of the loaded data "
      ],
      "execution_count": null,
      "outputs": []
    },
    {
      "cell_type": "code",
      "metadata": {
        "id": "koEZ__0E8Acz"
      },
      "source": [
        "pmid.columns = ['Pudmid']"
      ],
      "execution_count": null,
      "outputs": []
    },
    {
      "cell_type": "code",
      "metadata": {
        "id": "xy4kFVHn8AaR"
      },
      "source": [
        "pmid_new = pmid[\"Pudmid\"].tolist()"
      ],
      "execution_count": null,
      "outputs": []
    },
    {
      "cell_type": "code",
      "metadata": {
        "id": "8B1qHYZO8AWY"
      },
      "source": [
        "len(pmid_new)"
      ],
      "execution_count": null,
      "outputs": []
    },
    {
      "cell_type": "code",
      "metadata": {
        "id": "6-0itC-oNiBq"
      },
      "source": [
        "#pmid_new = \"PMID31563105,PMID31549657,PMID31445334,PMID31430718,PMID31398235,PMID31394342,PMID31351302,PMID31026607,PMID30986386,PMID30765135,PMID30326388,PMID30324341,PMID30216889,PMID30096573,PMID30086528,PMID30077934,PMID30048950,PMID30048949,PMID29886364,PMID29696449,PMID29502248,PMID29421353,PMID29383556,PMID29339611,PMID29273268,PMID29150672,PMID29102172,PMID29054658,PMID29052043,PMID28762129,PMID28664326,PMID28577026,PMID28333043,PMID28243605,PMID28006730,PMID27984820,PMID27285383,PMID27005792,PMID26776948,PMID26679048,PMID24862007,PMID19806743,PMID19546002,PMID18606539,PMID23777790,PMID23647119,PMID24349276,PMID10089289,PMID23894087,PMID23361126,PMID23212173,PMID19497847,PMID22865078,PMID26914145,PMID19209591,PMID20226496,PMID26125500,PMID25165005,PMID24589366,PMID29215190,PMID29773745,PMID28651047,PMID29979756,PMID19251892,PMID22635998,PMID22115096,PMID27900688,PMID18556047,PMID29915565,PMID23454590,PMID25487887,PMID21204875,PMID22003008,PMID22307296,PMID23586778,PMID23811502,PMID26254065,PMID26646979,PMID27825829,PMID19401257,PMID19195880,PMID19625116,PMID25582347,PMID18497127,PMID24928877,PMID23066709,PMID22176786,PMID19709256,PMID11976120,PMID11321104,PMID27866739,PMID25538691,PMID14706746,PMID23560662,PMID25025097,PMID28401633,PMID24915506,PMID21573924,PMID28616645,PMID25472689,PMID15316685,PMID24239819,PMID30267917,PMID17533847,PMID23950532,PMID18216259,PMID24866947,PMID18433838,PMID8226980,PMID25532770,PMID19767608,PMID20406281,PMID20692015,PMID20401686,PMID25104219,PMID17117994,PMID20092304,PMID22300554,PMID23124226,PMID24594486,PMID24123738,PMID29207531,PMID26766391,PMID24898178,PMID22247165,PMID31400112,PMID20799730,PMID22938719,PMID24317077,PMID25765521,PMID24062165,PMID30051563,PMID17240021,PMID17988770,PMID28363960,PMID24410802,PMID27316957,PMID23000746,PMID30918626,PMID25874375,PMID30647456,PMID17091564,PMID25135154,PMID25273229,PMID20830905,PMID24028318,PMID18421421,PMID27148185,PMID24863891,PMID25017637,PMID29056410,PMID22306910,PMID22723250,PMID15883866,PMID24075675,PMID24668245,PMID21219563,PMID23186529,PMID25321868,PMID25782024,PMID24394371,PMID31071671,PMID24615381,PMID25817583,PMID22828319,PMID29894929,PMID26595099,PMID25626903,PMID22913282,PMID26009808,PMID16391099,PMID20088886,PMID22991035,PMID20163824,PMID18800500,PMID28214125,PMID23562951,PMID16980937,PMID23670436,PMID21531434,PMID19112598,PMID22374299,PMID21253602,PMID24508567,PMID20305027,PMID21418495,PMID22854895,PMID15865341,PMID16580707,PMID24974362,PMID20108960,PMID21388176,PMID28215046,PMID20800877,PMID19089711,PMID19748650,PMID24676750,PMID28806704,PMID24846567,PMID25581482,PMID19124147,PMID23022948,PMID24721596,PMID15240330,PMID27734123,PMID17016919,PMID23029440,PMID26822473,PMID18281429,PMID18469402,PMID14647941,PMID16931750,PMID21615634,PMID17202126,PMID23815758,PMID21133989,PMID16329946,PMID22004107,PMID25092626,PMID19557131,PMID19002456,PMID22209399,PMID23144139,PMID24525259,PMID27558781,PMID26308673,PMID11319111,PMID21468717,PMID23076592,PMID26526541,PMID26714290,PMID29478141,PMID28321487,PMID22296107,PMID22583809,PMID24791707,PMID24595746,PMID11831474,PMID24194418,PMID23347633,PMID26582924,PMID25497426,PMID21396889,PMID10919784,PMID26273258,PMID15672270,PMID22544249,PMID21974851,PMID22392141,PMID22447387\""
      ],
      "execution_count": null,
      "outputs": []
    },
    {
      "cell_type": "code",
      "metadata": {
        "id": "blTQr1feYL_K"
      },
      "source": [
        "#pmid_new = \"31563105,31549657,31445334,31430718,31398235,31394342,31351302,31026607,30986386,30765135,30326388,30324341,30216889,30096573,30086528,30077934,30048950,30048949,29886364,29696449,29502248,29421353,29383556,29339611,29273268,29150672,29102172,29054658,29052043,28762129,28664326,28577026,28333043,28243605,28006730,27984820,27285383,27005792,26776948,26679048,24862007,19806743,19546002,18606539,23777790,23647119,24349276,10089289,23894087,23361126,23212173,19497847\""
      ],
      "execution_count": null,
      "outputs": []
    },
    {
      "cell_type": "code",
      "metadata": {
        "id": "1ZgoWYGIRymm"
      },
      "source": [
        "pmid_new = \"2604392,2604394,2604396,2624462,2646661,2729985,2731664,2737207,2834373,2841671,2925649,2992059,3145715,3146950,3226294,3365392,3415238,3530133,3540965,3542021,3662509,3680850,3700421,3752997,3771566,3804975,3830164,3910748,4026866,4051488,4156169,4209783,4342906,4375963,4404764,4436255,4664939,4850728,5413091,5835946,6089663,6121789,6135576,6305910,6353574,6477516,6616091,6696409,6802804,6835251,6848481,6988382,6989805,7069133,7110159,7125802,7272274,7296411,7326243,7405826,7487007,7487018,7532480,7532644,7534052,7538273,7538275,7574580,7574630,7574646,7592321,7592326,7592382,7612022,7632402,7646049,7710320,7710331,7711909,7727396,7730167,7744052,7751268,7765275,7765275,7765737,7765836,7772940,7783002,7815950,7858982,7916690,7944365,7946467,7988892,8002472,8002948,8017910,8042906,8048958,8075807,8085840,8085841,8085913,8117093,8125948,8157614,8168524,8206853,8226631,8226980,8250558,8270195,8285665,8285683,8285701,8328809,8336104,8368838,8407823,8434923,8439154,8489738,8515237,8555199,8565904,8565920,8572690,8572717,8626335,8626733,8631713,8639525,8639717,8655521,8663199,8695905,8706665,8713712,8795196,8795226,8806731,8824615,8824622,8840783,8863435,8899998,8919798,8919815,8932320,8932698,8953708,9006019,9023182,9023192,9055403,9055410,9056232,9073471,9143136,9148781,9150211,9169427,9171062,9188197,9198535,9212437,9244273,9256235,9288905,9361407,9371430,9371434,9402252,9409151,9422605,9440530,9451829,9461415,9484901,9501443,9531630,9546181,9561822,9563945,9603826,9603860,9603882,9604338,9634856,9665716,9682480,9683644,9687442,9687453,9688819,9699867,9705852,9726864,9726870,9758802,9763695,9782503,9821255,9841126,9880813,9925619,9973345,9990726,10049374,10103224,10192895,10215642,10217752,10224006,10224038,10335583,10336636,10411892,10427042,10427075,10441466,10446355,10460066,10508091,10508110,10515912,10525169,10583970,10600501,10604879,10623604,10633545,10653712,10698765,10698790,10749541,10772893,10788374,10808489,10820337,10831408,10831413,10831416,10831452,10832636,10900221,10919784,10919805,10919812,10944230,10959086,10966385,11034277,11073896,11097910,11133961,11282584,11282593,11306561,11319111,11321104,11337838,11348688,11371533,11404106,11423945,11426918,11440232,11440239,11455813,11482681,11549020,11573344,11587371,11665835,11679668,11682202,11685377,11693870,11722885,11762605,11763480,11766961,11778869,11823228,11823459,11823863,11831474,11839311,11882715,11907679,11944670,11956754,11976120,11990359,11993862,11995829,11999413,12000990,12023110,12039730,12089031,12102310,12107140,12147483,12161433,12164478,12174035,12218011,12228405,12242397,12244065,12324329,12351226,12355460,12411705,12427952,12450835,12450848,12513994,12549541,12570997,12571066,12590478,12620815,12620844,12620885,12632259,12687299,12688722,12713326,12730200,12743754,12805763,12833978,12839810,12867182,12883876,12957929,13806048,14001842,14209949,14342521,14478080,14506256,14527779,14568154,14647941,14669869,14677948,14680704,14706746,14711645,14711661,14727088,14766596,14961135,14977550,15080638,15091914,15098544,15110094,15128543,15231844,15240283,15240330,15273113,15281945,15315444,15316685,15321683,15361623,15372028,15447630,15466583,15473552,15474469,15500985,15543734,15598525,15647563,15658985,15665329,15672270,15672376,15687214,15699198,15700124,15746326,15750776,15760891,15812056,15843648,15865341,15883866,15941012,15979124,16000717,16030198,16085803,16085834,16111779,16145546,16151114,16163345,16187153,16204509,16204529,16233443,16243454,16329946,16329975,16345496,16345814,16346423,16346905,16348771,16349484,16391099,16412515,16427065,16445897,16445965,16461647,16461673,16507475,16517656,16534956,16535238,16535348,16535398,16535410,16535468,16535618,16549680,16563633,16574137,16580707,16622053,16648861,16672499,16742794,16763020,16841196,16849808,16931750,16934291,16950909,16957226,16980937,16997975,17009088,17016919,17085566,17090129,17091564,17117994,17202126,17240021,17252313,17258288,17289112,17304854,17337538,17337569,17369338,17425111,17425661,17462710,17464070,17526790,17533847,17557840,17616586,17618314,17686653,17694301,17886831,17896475,17988770,18024680,18043610,18044507,18216259,18279154,18281429,18340342,18421421,18433838,18456849,18469402,18497127,18556047,18658270,18713663,18778066,18783436,18785261,18800500,18848727,18922538,18970297,19002456,19089711,19112598,19124147,19167225,19195880,19209591,19245937,19251892,19401257,19413758,19447909,19543983,19557131,19625116,19709256,19713216,19748650,19767608,19853000,19913277,19915037,19960233,19996699,20038686,20047908,20081004,20088886,20092304,20108960,20163824,20226496,20228105,20305027,20383655,20401686,20406281,20452977,20660314,20692015,20799730,20800877,20802076,20830905,20833408,21133989,21204875,21212954,21219563,21219945,21253602,21388176,21396889,21418495,21468717,21531434,21573924,21615634,21964329,21974851,22003008,22004107,22115096,22176786,22209399,22247165,22296107,22300554,22306910,22307296,22374299,22392141,22447387,22544249,22583809,22635998,22723250,22828319,22854895,22865078,22913282,22938719,22991035,23000746,23022948,23029440,23066709,23076592,23124226,23144139,23186529,23347633,23454590,23560662,23562951,23586778,23670436,23811502,23815758,23950532,24028318,24062165,24075675,24123738,24194418,24239819,24317077,24394371,24410802,24508567,24525259,24589366,24594486,24595746,24615381,24668245,24676750,24721596,24791707,24846567,24863891,24866947,24898178,24915506,24928877,24974362,25017637,25025097,25092626,25104219,25135154,25165005,25273229,25321868,25472689,25487887,25497426,25532770,25538691,25581482,25582347,25626903,25765521,25782024,25817583,25874375,26009808,26125500,26254065,26273258,26308673,26526541,26582924,26595099,26646979,26714290,26766391,26822473,26914145,27148185,27316957,27558781,27734123,27825829,27866739,27900688,28214125,28215046,28321487,28363960,28401633,28616645,28651047,28806704,29056410,29207531,29215190,29478141,29773745,29894929,29915565,29979756,30051563,30267917,30647456,30918626,31071671,31400112,87194560,93170297,94190123,95344182,97144512\""
      ],
      "execution_count": null,
      "outputs": []
    },
    {
      "cell_type": "code",
      "metadata": {
        "id": "xtV5jWf8UcBt"
      },
      "source": [
        "Entrez.email = \"a.sakapetis@students.uu.nl\"\n",
        "handle = efetch(db='pubmed', id=pmid_new, retmode='text', rettype='abstract')"
      ],
      "execution_count": null,
      "outputs": []
    },
    {
      "cell_type": "code",
      "metadata": {
        "id": "FRTqga_edGpj"
      },
      "source": [
        "#Entrez.email = \"a.sakapetis@students.uu.nl\"\n",
        "#handle = efetch(db='pubmed', id=pmid_new, retmode='xml', rettype='text')"
      ],
      "execution_count": null,
      "outputs": []
    },
    {
      "cell_type": "code",
      "metadata": {
        "id": "GiOL7U2P9Ogy"
      },
      "source": [
        "text_from_file = handle.read()"
      ],
      "execution_count": null,
      "outputs": []
    },
    {
      "cell_type": "code",
      "metadata": {
        "id": "kdkZYmIwGYzp"
      },
      "source": [
        "file = open(\"190_799.txt\", \"w\") \n",
        "file.write(str(text_from_file)) \n",
        "file.close()"
      ],
      "execution_count": null,
      "outputs": []
    },
    {
      "cell_type": "code",
      "metadata": {
        "id": "vbwx7udjs_jD"
      },
      "source": [
        "with open(\"/content/clean.txt\", 'rb') as corpus:\n",
        "  text_full = corpus.read()"
      ],
      "execution_count": null,
      "outputs": []
    },
    {
      "cell_type": "code",
      "metadata": {
        "id": "BWjglMh-wyl5"
      },
      "source": [
        "import nltk, re, string, unicodedata, inflect, glob, os\n",
        "import re\n",
        "from nltk.corpus.reader.plaintext import PlaintextCorpusReader\n",
        "import numpy as np \n",
        "import pandas as pd                                 #for data manipulation and analysis\n",
        "from nltk.corpus import stopwords                   #Stopwords corpus\n",
        "from nltk.stem import PorterStemmer \n",
        "from nltk.tokenize import RegexpTokenizer\n",
        "from string import punctuation\n",
        "from nltk import word_tokenize, sent_tokenize\n",
        "from nltk.corpus import stopwords\n",
        "from nltk.stem import LancasterStemmer, WordNetLemmatizer\n",
        "from nltk.tokenize import TreebankWordTokenizer\n",
        "nltk.download('stopwords')\n",
        "nltk.download('punkt')\n",
        "nltk.download('wordnet')\n",
        "nltk.download('averaged_perceptron_tagger')"
      ],
      "execution_count": null,
      "outputs": []
    },
    {
      "cell_type": "code",
      "metadata": {
        "id": "mNC9OeHaw8lT"
      },
      "source": [
        "stop_words = stopwords.words('english')\n",
        "stop_words.extend(['from','at','subject','for','of','and','re','edu','use'])"
      ],
      "execution_count": null,
      "outputs": []
    },
    {
      "cell_type": "markdown",
      "metadata": {
        "id": "mWV-4DHo00CK"
      },
      "source": [
        "**1) FIRST STEP I WILL REMOVE NOISE**\n",
        "\n",
        "\n"
      ]
    },
    {
      "cell_type": "code",
      "metadata": {
        "id": "xwfQhh_cUiw8"
      },
      "source": [
        "erst = sent_tokenize(str(text_from_file))"
      ],
      "execution_count": null,
      "outputs": []
    },
    {
      "cell_type": "code",
      "metadata": {
        "id": "gf69l0NCYc20"
      },
      "source": [
        "erst"
      ],
      "execution_count": null,
      "outputs": []
    },
    {
      "cell_type": "code",
      "metadata": {
        "id": "yshuRLlhNsSv"
      },
      "source": [
        "value = text_from_file.lower()\n",
        "value = re.sub(r'[\\r\\n]+', ' ', value)\n",
        "value = re.sub(r'[^\\x00-\\x7F]+', ' ', value)\n",
        "\n",
        "tokenized = TreebankWordTokenizer().tokenize(value)\n",
        "sentence = ' '.join(tokenized)\n",
        "sentence = re.sub(r\"\\s's\\b\", \"'s\", sentence)"
      ],
      "execution_count": null,
      "outputs": []
    },
    {
      "cell_type": "code",
      "metadata": {
        "id": "vG-SO0rHOSFJ"
      },
      "source": [
        "seconde = sent_tokenize(str(text_from_file))"
      ],
      "execution_count": null,
      "outputs": []
    },
    {
      "cell_type": "code",
      "metadata": {
        "id": "eEc24yiDq9F8"
      },
      "source": [
        "df = pd.DataFrame(data = seconde)"
      ],
      "execution_count": null,
      "outputs": []
    },
    {
      "cell_type": "code",
      "metadata": {
        "id": "5mZhC4s9rUCN"
      },
      "source": [
        "df.columns = [\"Sent\"]"
      ],
      "execution_count": null,
      "outputs": []
    },
    {
      "cell_type": "code",
      "metadata": {
        "id": "OEcow7QysAA4"
      },
      "source": [
        "df.head()"
      ],
      "execution_count": null,
      "outputs": []
    },
    {
      "cell_type": "code",
      "metadata": {
        "id": "k2vqZY89rsyW"
      },
      "source": [
        "df['Sent'] = df['Sent'].str.lower()"
      ],
      "execution_count": null,
      "outputs": []
    },
    {
      "cell_type": "code",
      "metadata": {
        "id": "VzEi15oxvEKn"
      },
      "source": [
        "df.head()"
      ],
      "execution_count": null,
      "outputs": []
    },
    {
      "cell_type": "code",
      "metadata": {
        "id": "fMDLUGN6gim3"
      },
      "source": [
        "df[\"text_lower\"] = df[\"Sent\"].str.lower()\n",
        "df.head()"
      ],
      "execution_count": null,
      "outputs": []
    },
    {
      "cell_type": "code",
      "metadata": {
        "id": "SrO27l5Egsj9"
      },
      "source": [
        "# drop the new column created in last cell\n",
        "df.drop([\"Sent\"], axis=1, inplace=True)\n",
        "\n",
        "PUNCT_TO_REMOVE = string.punctuation\n",
        "def remove_punctuation(text):\n",
        "    \"\"\"custom function to remove the punctuation\"\"\"\n",
        "    return text.translate(str.maketrans('', '', PUNCT_TO_REMOVE))\n",
        "\n",
        "df[\"text_wo_punct\"] = df[\"text_lower\"].apply(lambda text: remove_punctuation(text))\n",
        "df.head()"
      ],
      "execution_count": null,
      "outputs": []
    },
    {
      "cell_type": "code",
      "metadata": {
        "id": "xrsXs0LMgtKP"
      },
      "source": [
        "from nltk.corpus import stopwords\n",
        "\", \".join(stopwords.words('english'))"
      ],
      "execution_count": null,
      "outputs": []
    },
    {
      "cell_type": "code",
      "metadata": {
        "id": "t9wVBCCuhBrX"
      },
      "source": [
        "STOPWORDS = set(stopwords.words('english'))\n",
        "def remove_stopwords(text):\n",
        "    \"\"\"custom function to remove the stopwords\"\"\"\n",
        "    return \" \".join([word for word in str(text).split() if word not in STOPWORDS])\n",
        "\n",
        "df[\"text_wo_stop\"] = df[\"text_wo_punct\"].apply(lambda text: remove_stopwords(text))\n",
        "df.head()"
      ],
      "execution_count": null,
      "outputs": []
    },
    {
      "cell_type": "code",
      "metadata": {
        "id": "HIUwgoXrhDmE"
      },
      "source": [
        "from collections import Counter\n",
        "cnt = Counter()\n",
        "for text in df[\"text_wo_stop\"].values:\n",
        "    for word in text.split():\n",
        "        cnt[word] += 1\n",
        "        \n",
        "cnt.most_common(10)"
      ],
      "execution_count": null,
      "outputs": []
    },
    {
      "cell_type": "code",
      "metadata": {
        "id": "BgimykEuhHOP"
      },
      "source": [
        "FREQWORDS = set([w for (w, wc) in cnt.most_common(10)])\n",
        "def remove_freqwords(text):\n",
        "    \"\"\"custom function to remove the frequent words\"\"\"\n",
        "    return \" \".join([word for word in str(text).split() if word not in FREQWORDS])\n",
        "\n",
        "df[\"text_wo_stopfreq\"] = df[\"text_wo_stop\"].apply(lambda text: remove_freqwords(text))\n",
        "df.head()"
      ],
      "execution_count": null,
      "outputs": []
    },
    {
      "cell_type": "code",
      "metadata": {
        "id": "FzShMzLohH5H"
      },
      "source": [
        "# Drop the two columns which are no more needed \n",
        "df.drop([\"text_wo_punct\", \"text_wo_stop\"], axis=1, inplace=True)\n",
        "\n",
        "n_rare_words = 10\n",
        "RAREWORDS = set([w for (w, wc) in cnt.most_common()[:-n_rare_words-1:-1]])\n",
        "def remove_rarewords(text):\n",
        "    \"\"\"custom function to remove the rare words\"\"\"\n",
        "    return \" \".join([word for word in str(text).split() if word not in RAREWORDS])\n",
        "\n",
        "df[\"text_wo_stopfreqrare\"] = df[\"text_wo_stopfreq\"].apply(lambda text: remove_rarewords(text))\n",
        "df.head()"
      ],
      "execution_count": null,
      "outputs": []
    },
    {
      "cell_type": "code",
      "metadata": {
        "id": "8GrqJy3nhKCS"
      },
      "source": [
        "from collections import Counter\n",
        "cnt = Counter()\n",
        "for text in df[\"text_wo_stopfreqrare\"].values:\n",
        "    for word in text.split():\n",
        "        cnt[word] += 1\n",
        "        \n",
        "cnt.most_common(10)"
      ],
      "execution_count": null,
      "outputs": []
    },
    {
      "cell_type": "code",
      "metadata": {
        "id": "_dfXasMdRej9"
      },
      "source": [
        "#Bert"
      ],
      "execution_count": null,
      "outputs": []
    },
    {
      "cell_type": "code",
      "metadata": {
        "id": "RSZcgdyQS4JC"
      },
      "source": [
        "with open('output.txt', 'w') as f:\n",
        "    for text in df['text_wo_punct'].tolist():\n",
        "        f.write(text + '\\n')"
      ],
      "execution_count": null,
      "outputs": []
    },
    {
      "cell_type": "code",
      "metadata": {
        "id": "T7S-TvCHyoKE"
      },
      "source": [
        "import pandas as pd\n",
        "\n",
        "lines = []\n",
        "with open(\"/content/output.txt\", 'r') as infile:\n",
        "    stripped = [line.strip() for line in infile]\n",
        "    for line in stripped:\n",
        "        line = \"\".join(line.strip())\n",
        "        lines.append(line)\n",
        "\n",
        "zeros = [0 for i in range(len(lines))]\n",
        "\n",
        "df = pd.DataFrame(list(zip(lines, zeros)),\n",
        "                  columns=['sentence', 'label'])\n",
        "df.index.name = \"index\"\n",
        "\n",
        "with open('sentence.tsv', 'w') as write_tsv:\n",
        "    write_tsv.write(df.to_csv(sep='\\t', index=True))\n"
      ],
      "execution_count": null,
      "outputs": []
    },
    {
      "cell_type": "markdown",
      "metadata": {
        "id": "4lDrjnMJTKPo"
      },
      "source": [
        "**Tokenize Words for SciSpacy Implementation**"
      ]
    },
    {
      "cell_type": "code",
      "metadata": {
        "id": "lQkP5fLgTNmr"
      },
      "source": [
        "from nltk.tokenize import word_tokenize\n"
      ],
      "execution_count": null,
      "outputs": []
    },
    {
      "cell_type": "code",
      "metadata": {
        "id": "RNP8Jv1iTamy"
      },
      "source": [
        "text_for_spacy = word_tokenize(str(text))"
      ],
      "execution_count": null,
      "outputs": []
    },
    {
      "cell_type": "code",
      "metadata": {
        "id": "JT9M2xSmUOCk"
      },
      "source": [
        "table = str.maketrans('', '', string.punctuation)"
      ],
      "execution_count": null,
      "outputs": []
    },
    {
      "cell_type": "code",
      "metadata": {
        "id": "SkgIrtYnUbcG"
      },
      "source": [
        "text_for_spacy_stripped = [w.translate(table) for w in text_for_spacy]"
      ],
      "execution_count": null,
      "outputs": []
    },
    {
      "cell_type": "code",
      "metadata": {
        "id": "YMEZbYX-UTs8"
      },
      "source": [
        "text_for_spacy_stripped"
      ],
      "execution_count": null,
      "outputs": []
    },
    {
      "cell_type": "code",
      "metadata": {
        "id": "6GTbt2wC4PL6"
      },
      "source": [
        "type(text_for_spacy_stripped)"
      ],
      "execution_count": null,
      "outputs": []
    },
    {
      "cell_type": "code",
      "metadata": {
        "id": "D1PGJhAo4SJu"
      },
      "source": [
        "file = open(\"erst.txt\", \"w\") \n",
        "file.write(str(erst)) \n",
        "file.close()"
      ],
      "execution_count": null,
      "outputs": []
    },
    {
      "cell_type": "markdown",
      "metadata": {
        "id": "WiZrGX0y28U8"
      },
      "source": [
        "**START SCISPACY IMPLEMENTATION**"
      ]
    },
    {
      "cell_type": "code",
      "metadata": {
        "id": "0SuWn1K43Bbn"
      },
      "source": [
        "import numpy as np # linear algebra\n",
        "import pandas as pd # data processing, CSV file I/O (e.g. pd.read_csv)\n",
        "\n",
        "import pickle\n",
        "import spacy"
      ],
      "execution_count": null,
      "outputs": []
    },
    {
      "cell_type": "code",
      "metadata": {
        "id": "Q26bLTaf3Dhd"
      },
      "source": [
        "pip install scispacy spacy"
      ],
      "execution_count": null,
      "outputs": []
    },
    {
      "cell_type": "code",
      "metadata": {
        "id": "uQRmzaFY3WU5"
      },
      "source": [
        "pip install https://s3-us-west-2.amazonaws.com/ai2-s2-scispacy/releases/v0.2.3/en_ner_bc5cdr_md-0.2.3.tar.gz"
      ],
      "execution_count": null,
      "outputs": []
    },
    {
      "cell_type": "code",
      "metadata": {
        "id": "yozRO1hSdPcG"
      },
      "source": [
        "pip install https://s3-us-west-2.amazonaws.com/ai2-s2-scispacy/releases/v0.2.3/en_ner_craft_md-0.2.3.tar.gz"
      ],
      "execution_count": null,
      "outputs": []
    },
    {
      "cell_type": "code",
      "metadata": {
        "id": "IP8WsAAedScS"
      },
      "source": [
        "pip install https://s3-us-west-2.amazonaws.com/ai2-s2-scispacy/releases/v0.2.3/en_ner_jnlpba_md-0.2.3.tar.gz"
      ],
      "execution_count": null,
      "outputs": []
    },
    {
      "cell_type": "code",
      "metadata": {
        "id": "KhZuTAvJdVoQ"
      },
      "source": [
        "pip install https://s3-us-west-2.amazonaws.com/ai2-s2-scispacy/releases/v0.2.3/en_ner_bionlp13cg_md-0.2.3.tar.gz"
      ],
      "execution_count": null,
      "outputs": []
    },
    {
      "cell_type": "code",
      "metadata": {
        "id": "VXrsmBa23Ymk"
      },
      "source": [
        "import scispacy\n",
        "from spacy import displacy\n",
        "from scispacy.abbreviation import AbbreviationDetector\n",
        "from scispacy.umls_linking import UmlsEntityLinker"
      ],
      "execution_count": null,
      "outputs": []
    },
    {
      "cell_type": "code",
      "metadata": {
        "id": "5qgrBHlJderp"
      },
      "source": [
        "import en_ner_craft_md\n",
        "import en_ner_jnlpba_md\n",
        "import en_ner_bc5cdr_md"
      ],
      "execution_count": null,
      "outputs": []
    },
    {
      "cell_type": "code",
      "metadata": {
        "id": "uVH2nggM3Zx-"
      },
      "source": [
        "import en_ner_bionlp13cg_md\n"
      ],
      "execution_count": null,
      "outputs": []
    },
    {
      "cell_type": "code",
      "metadata": {
        "id": "Lc5ra4sY3cSB"
      },
      "source": [
        "nlp = en_ner_bc5cdr_md.load()\n"
      ],
      "execution_count": null,
      "outputs": []
    },
    {
      "cell_type": "code",
      "metadata": {
        "id": "Vt6pn8L-3e2j"
      },
      "source": [
        "#nlp.max_length = 4421830             "
      ],
      "execution_count": null,
      "outputs": []
    },
    {
      "cell_type": "code",
      "metadata": {
        "id": "BeTJSqfyQcso"
      },
      "source": [
        "len(text_for_spacy_stripped)"
      ],
      "execution_count": null,
      "outputs": []
    },
    {
      "cell_type": "code",
      "metadata": {
        "id": "8VSxlEVbWpXH"
      },
      "source": [
        "did = set(text_for_spacy_stripped)"
      ],
      "execution_count": null,
      "outputs": []
    },
    {
      "cell_type": "code",
      "metadata": {
        "id": "RXoRrckYUowg"
      },
      "source": [
        "len(did)"
      ],
      "execution_count": null,
      "outputs": []
    },
    {
      "cell_type": "code",
      "metadata": {
        "id": "SVSW2MYb3gDe"
      },
      "source": [
        "doc = nlp(str(did))"
      ],
      "execution_count": null,
      "outputs": []
    },
    {
      "cell_type": "code",
      "metadata": {
        "id": "rZpQUWQb89YV"
      },
      "source": [
        "print(doc.ents)\n"
      ],
      "execution_count": null,
      "outputs": []
    },
    {
      "cell_type": "code",
      "metadata": {
        "id": "4-HL-Q5Q8Vjx"
      },
      "source": [
        "for np in doc.noun_chunks:\n",
        "    print(np.text)"
      ],
      "execution_count": null,
      "outputs": []
    },
    {
      "cell_type": "code",
      "metadata": {
        "id": "rzbclO5e3hzC"
      },
      "source": [
        "empty_list = []\n",
        "for entity in doc.ents:\n",
        "  print(doc.ents)\n",
        "  empty_list.append(entity.text)\n"
      ],
      "execution_count": null,
      "outputs": []
    },
    {
      "cell_type": "code",
      "metadata": {
        "id": "rIYJ2Aru9Mcl"
      },
      "source": [
        "empty_list"
      ],
      "execution_count": null,
      "outputs": []
    },
    {
      "cell_type": "code",
      "metadata": {
        "id": "9GPK1jFKvk7y"
      },
      "source": [
        "for entity in doc.ents:\n",
        "  print(entity.label_, ' | ', entity.text) "
      ],
      "execution_count": null,
      "outputs": []
    },
    {
      "cell_type": "code",
      "metadata": {
        "id": "S4L24stWvIuk"
      },
      "source": [
        "len(set(empty_list))"
      ],
      "execution_count": null,
      "outputs": []
    },
    {
      "cell_type": "code",
      "metadata": {
        "id": "ZFjtlrQEqpHv"
      },
      "source": [
        "file = open(\"corpus.txt\", \"w\") \n",
        "file.write(str(erst)) \n",
        "file.close()"
      ],
      "execution_count": null,
      "outputs": []
    },
    {
      "cell_type": "code",
      "metadata": {
        "id": "F410qj96vvKL"
      },
      "source": [
        "set(empty_list)"
      ],
      "execution_count": null,
      "outputs": []
    },
    {
      "cell_type": "code",
      "metadata": {
        "id": "whmmTCDQQFlC"
      },
      "source": [
        "len(empty_list)"
      ],
      "execution_count": null,
      "outputs": []
    },
    {
      "cell_type": "markdown",
      "metadata": {
        "id": "qt6O1a1ZfUEq"
      },
      "source": [
        "**Word2Vec**"
      ]
    },
    {
      "cell_type": "code",
      "metadata": {
        "id": "7Pbnw_j7fXBP"
      },
      "source": [
        "import multiprocessing\n",
        "from gensim.models import Word2Vec\n",
        "import gensim \n",
        "import gensim.utils\n",
        "from gensim.test.utils import common_texts, get_tmpfile\n",
        "from gensim.models import Word2Vec"
      ],
      "execution_count": null,
      "outputs": []
    },
    {
      "cell_type": "code",
      "metadata": {
        "id": "S3rIriZEhKaM"
      },
      "source": [
        "cores = multiprocessing.cpu_count() # Count the number of cores in a computer\n",
        "cores"
      ],
      "execution_count": null,
      "outputs": []
    },
    {
      "cell_type": "code",
      "metadata": {
        "id": "fD60QvK1vfNG"
      },
      "source": [
        "import glob\n",
        "file_names = glob.glob(\"/content/clean.txt\")\n",
        "with open(\"/content/clean.txt\", \"r\", encoding = \"utf-8\") as f:\n",
        "      print(f.read())"
      ],
      "execution_count": null,
      "outputs": []
    },
    {
      "cell_type": "code",
      "metadata": {
        "id": "tot7C2-nvjSC"
      },
      "source": [
        "sport_text_list=[]\n",
        "for file in file_names:\n",
        "    try:\n",
        "        with open(file, \"r\", encoding= \"utf-8\") as f:\n",
        "            sport_text_list.append(f.read())\n",
        "    except:\n",
        "      pass"
      ],
      "execution_count": null,
      "outputs": []
    },
    {
      "cell_type": "code",
      "metadata": {
        "id": "yJ2xm3_UtdWu"
      },
      "source": [
        "clean_texts = []\n",
        "for text in sport_text_list:\n",
        "    clean_texts.append(gensim.utils.simple_preprocess(text))"
      ],
      "execution_count": null,
      "outputs": []
    },
    {
      "cell_type": "code",
      "metadata": {
        "id": "ymalspuVfcZL"
      },
      "source": [
        "sentences = [nltk.word_tokenize(sent) for sent in nltk.sent_tokenize(str(fifth_step))]"
      ],
      "execution_count": null,
      "outputs": []
    },
    {
      "cell_type": "code",
      "metadata": {
        "id": "NuvhQcfId4xP"
      },
      "source": [
        "model = gensim.models.Word2Vec(#check if works\n",
        "        sentences,\n",
        "        size = 150,\n",
        "        window = 10,\n",
        "        min_count = 5,\n",
        "        workers = 10)"
      ],
      "execution_count": null,
      "outputs": []
    },
    {
      "cell_type": "code",
      "metadata": {
        "id": "11JbB6m6fDE-"
      },
      "source": [
        "vocab = list(model.wv.vocab)\n",
        "vocab"
      ],
      "execution_count": null,
      "outputs": []
    },
    {
      "cell_type": "code",
      "metadata": {
        "id": "U8C6ajA7haQa"
      },
      "source": [
        "model = gensim.models.Word2Vec(\n",
        "        clean_texts,\n",
        "        size = 150,\n",
        "        window = 10,\n",
        "        min_count = 1,\n",
        "        workers = 10)"
      ],
      "execution_count": null,
      "outputs": []
    },
    {
      "cell_type": "code",
      "metadata": {
        "id": "wKbAIRkzhlCC"
      },
      "source": [
        "model.train(clean_texts, total_examples=len(third_step), epochs=10)"
      ],
      "execution_count": null,
      "outputs": []
    },
    {
      "cell_type": "code",
      "metadata": {
        "id": "MZVDgdIIhqDA"
      },
      "source": [
        "model.save(\"word2vec.model\")#save the model"
      ],
      "execution_count": null,
      "outputs": []
    },
    {
      "cell_type": "code",
      "metadata": {
        "id": "-bmuedQtiA1b"
      },
      "source": [
        "model.wv.save_word2vec_format('model.bin', binary=True)#save the model\n"
      ],
      "execution_count": null,
      "outputs": []
    },
    {
      "cell_type": "code",
      "metadata": {
        "id": "1patbmR8dfEw"
      },
      "source": [
        "from collections import defaultdict\n"
      ],
      "execution_count": null,
      "outputs": []
    },
    {
      "cell_type": "code",
      "metadata": {
        "id": "Pb8DkqetgAgu"
      },
      "source": [
        "from nltk.tokenize import sent_tokenize, word_tokenize"
      ],
      "execution_count": null,
      "outputs": []
    },
    {
      "cell_type": "code",
      "metadata": {
        "id": "rfoqiR8cgGL6"
      },
      "source": [
        "phrases = sent_tokenize(text_from_file)\n"
      ],
      "execution_count": null,
      "outputs": []
    },
    {
      "cell_type": "code",
      "metadata": {
        "id": "BmfJdvV7gO6r"
      },
      "source": [
        "print(phrases[:50])"
      ],
      "execution_count": null,
      "outputs": []
    },
    {
      "cell_type": "code",
      "metadata": {
        "id": "XLjyG490eLlx"
      },
      "source": [
        "line = 'Once upon a time a time this upon a'\n"
      ],
      "execution_count": null,
      "outputs": []
    },
    {
      "cell_type": "code",
      "metadata": {
        "id": "2y2057xLg7FM"
      },
      "source": [
        "line = list"
      ],
      "execution_count": null,
      "outputs": []
    },
    {
      "cell_type": "code",
      "metadata": {
        "id": "QnVeFJrBf0DQ"
      },
      "source": [
        "bigrams = [b for l in phrases for b in zip(l.split(\" \")[:-1], l.split(\" \")[1:])]"
      ],
      "execution_count": null,
      "outputs": []
    },
    {
      "cell_type": "code",
      "metadata": {
        "id": "HR7Hod4kkjzP"
      },
      "source": [
        "print(bigrams)"
      ],
      "execution_count": null,
      "outputs": []
    },
    {
      "cell_type": "code",
      "metadata": {
        "id": "41jZ1c6ueJq7"
      },
      "source": [
        "dic = defaultdict(int)\n",
        "\n",
        "s = list(phrases)"
      ],
      "execution_count": null,
      "outputs": []
    },
    {
      "cell_type": "code",
      "metadata": {
        "id": "bDyQN5CpiM4N"
      },
      "source": [
        "s"
      ],
      "execution_count": null,
      "outputs": []
    },
    {
      "cell_type": "code",
      "metadata": {
        "id": "6IZRUJR2ixqB"
      },
      "source": [
        "len(s)"
      ],
      "execution_count": null,
      "outputs": []
    },
    {
      "cell_type": "code",
      "metadata": {
        "id": "C3jmmotQipU7"
      },
      "source": [
        "s = normalize(s)"
      ],
      "execution_count": null,
      "outputs": []
    },
    {
      "cell_type": "code",
      "metadata": {
        "id": "sWU3WI44dfQt"
      },
      "source": [
        "for i in range(0, len(s)-1):\n",
        "    dic[str(s[i]) + ' ' + str(s[i+1])] += 1"
      ],
      "execution_count": null,
      "outputs": []
    },
    {
      "cell_type": "code",
      "metadata": {
        "id": "55pDr9eNhqz6"
      },
      "source": [
        "len(dic)"
      ],
      "execution_count": null,
      "outputs": []
    },
    {
      "cell_type": "code",
      "metadata": {
        "id": "2WuKWovwiAKN"
      },
      "source": [
        "dic"
      ],
      "execution_count": null,
      "outputs": []
    },
    {
      "cell_type": "code",
      "metadata": {
        "id": "Vf3jDWA0jY4P"
      },
      "source": [
        "dic"
      ],
      "execution_count": null,
      "outputs": []
    },
    {
      "cell_type": "code",
      "metadata": {
        "id": "MQG-gtVEOufu"
      },
      "source": [
        "len(model.wv.vocab)"
      ],
      "execution_count": null,
      "outputs": []
    },
    {
      "cell_type": "code",
      "metadata": {
        "id": "VKGZdqr_OuR9"
      },
      "source": [
        "path = get_tmpfile(\"/content/word2vec.model\")\n"
      ],
      "execution_count": null,
      "outputs": []
    },
    {
      "cell_type": "code",
      "metadata": {
        "id": "2mR6yCABOuDG"
      },
      "source": [
        "path = get_tmpfile(\"/content/word2vec.model\")\n",
        "\n",
        "model.wv.save_word2vec_format(\"/content/word2vec.txt\")\n"
      ],
      "execution_count": null,
      "outputs": []
    },
    {
      "cell_type": "code",
      "metadata": {
        "id": "sF7fRCu1Oty-"
      },
      "source": [
        "import gzip"
      ],
      "execution_count": null,
      "outputs": []
    },
    {
      "cell_type": "code",
      "metadata": {
        "id": "OYRtXwR7jq04"
      },
      "source": [
        "\n",
        "!zip -r /content/file.zip /content/word2vec.txt"
      ],
      "execution_count": null,
      "outputs": []
    },
    {
      "cell_type": "code",
      "metadata": {
        "id": "T71Qd6_ojsul"
      },
      "source": [
        "!python -m spacy init-model en ./data/spacy.word2vec.model --vectors-loc word2vec.txt.gz"
      ],
      "execution_count": null,
      "outputs": []
    },
    {
      "cell_type": "code",
      "metadata": {
        "id": "KKZoHvFhjvUS"
      },
      "source": [
        "nlp = spacy.load('en', vectors='./data/spacy.word2vec.model/')"
      ],
      "execution_count": null,
      "outputs": []
    },
    {
      "cell_type": "code",
      "metadata": {
        "id": "tGGvMq-SjxeT"
      },
      "source": [
        "doc = nlp(str(third_step))"
      ],
      "execution_count": null,
      "outputs": []
    },
    {
      "cell_type": "code",
      "metadata": {
        "id": "T8hMBeDDj5UM"
      },
      "source": [
        "for entity in doc.ents:\n",
        "  print(entity.label_, ' | ', entity.text)"
      ],
      "execution_count": null,
      "outputs": []
    },
    {
      "cell_type": "markdown",
      "metadata": {
        "id": "AnYLRlHrTv_v"
      },
      "source": [
        "#new "
      ]
    },
    {
      "cell_type": "code",
      "metadata": {
        "id": "A3VBEGqZTxPF"
      },
      "source": [
        "with open(\"/content/USETHIS.txt\", 'rb') as corpus:\n",
        "  text_full = corpus.read()"
      ],
      "execution_count": null,
      "outputs": []
    },
    {
      "cell_type": "code",
      "metadata": {
        "id": "6eXAfLz7T1Nf"
      },
      "source": [
        "from nltk.tokenize import word_tokenize\n"
      ],
      "execution_count": null,
      "outputs": []
    },
    {
      "cell_type": "code",
      "metadata": {
        "id": "Iq2jGJpqT5AL"
      },
      "source": [
        "text_for_spacy = word_tokenize(str(text_full))"
      ],
      "execution_count": null,
      "outputs": []
    },
    {
      "cell_type": "code",
      "metadata": {
        "id": "Dq7PtiPWT-7g"
      },
      "source": [
        "tag_list = [nltk.pos_tag(w) for w in text_for_spacy]"
      ],
      "execution_count": null,
      "outputs": []
    },
    {
      "cell_type": "code",
      "metadata": {
        "id": "XlijqiqfUHvH"
      },
      "source": [
        "tag_list = nltk.pos_tag(text_for_spacy)"
      ],
      "execution_count": null,
      "outputs": []
    },
    {
      "cell_type": "code",
      "metadata": {
        "id": "OlhSeSufVSHj"
      },
      "source": [
        "tag_list"
      ],
      "execution_count": null,
      "outputs": []
    },
    {
      "cell_type": "code",
      "metadata": {
        "id": "SkCpzCU4UIez"
      },
      "source": [
        "import matplotlib\n",
        "matplotlib.use('Agg')"
      ],
      "execution_count": null,
      "outputs": []
    },
    {
      "cell_type": "code",
      "metadata": {
        "id": "pqspE-HfUeZj"
      },
      "source": [
        "NP = \"NP: {(<V\\w+>|<NN\\w?>)+.*<NN\\w?>}\"\n"
      ],
      "execution_count": null,
      "outputs": []
    },
    {
      "cell_type": "code",
      "metadata": {
        "id": "DrY5pMg9UZRx"
      },
      "source": [
        "chunkr = nltk.RegexpParser(NP)\n"
      ],
      "execution_count": null,
      "outputs": []
    },
    {
      "cell_type": "code",
      "metadata": {
        "id": "Vsyr8Vw1Ukod"
      },
      "source": [
        "import matplotlib\n",
        "matplotlib.use('Agg')"
      ],
      "execution_count": null,
      "outputs": []
    },
    {
      "cell_type": "code",
      "metadata": {
        "id": "eea1X1bDUo1O"
      },
      "source": [
        "import matplotlib.pyplot as plt\n",
        "plt.switch_backend('agg')"
      ],
      "execution_count": null,
      "outputs": []
    },
    {
      "cell_type": "code",
      "metadata": {
        "id": "vJAKseozUrtj"
      },
      "source": [
        "import matplotlib\n",
        "matplotlib.use('Agg')\n",
        "import matplotlib.pyplot as plt"
      ],
      "execution_count": null,
      "outputs": []
    },
    {
      "cell_type": "code",
      "metadata": {
        "id": "1LQzKZfvVjj7"
      },
      "source": [
        "import nltk\n",
        "nltk.download('maxent_ne_chunker')\n",
        "nltk.download('words')"
      ],
      "execution_count": null,
      "outputs": []
    },
    {
      "cell_type": "code",
      "metadata": {
        "id": "omTZ5rIuVM8H"
      },
      "source": [
        "from nltk import word_tokenize, pos_tag, ne_chunk\n",
        "from nltk import RegexpParser\n",
        "from nltk import Tree\n",
        "import pandas as pd\n",
        "\n",
        "def get_continuous_chunks(text, chunk_func=ne_chunk):\n",
        "    chunked = chunk_func(pos_tag(word_tokenize(text)))\n",
        "    continuous_chunk = []\n",
        "    current_chunk = []\n",
        "\n",
        "    for subtree in chunked:\n",
        "        if type(subtree) == Tree:\n",
        "            current_chunk.append(\" \".join([token for token, pos in subtree.leaves()]))\n",
        "        elif current_chunk:\n",
        "            named_entity = \" \".join(current_chunk)\n",
        "            if named_entity not in continuous_chunk:\n",
        "                continuous_chunk.append(named_entity)\n",
        "                current_chunk = []\n",
        "        else:\n",
        "            continue\n",
        "\n",
        "    return continuous_chunk"
      ],
      "execution_count": null,
      "outputs": []
    },
    {
      "cell_type": "code",
      "metadata": {
        "id": "zv3ZMbdqVfPW"
      },
      "source": [
        "df = pd.DataFrame({'text':['This is a foo, bar sentence with New York city.', \n",
        "                           'Another bar foo Washington DC thingy with Bruce Wayne.']})\n",
        "\n",
        "df['text'].apply(lambda sent: get_continuous_chunks((sent)))"
      ],
      "execution_count": null,
      "outputs": []
    }
  ]
}