{
  "nbformat": 4,
  "nbformat_minor": 0,
  "metadata": {
    "colab": {
      "name": "SemRep.ipynb",
      "provenance": []
    },
    "kernelspec": {
      "name": "python3",
      "display_name": "Python 3"
    }
  },
  "cells": [
    {
      "cell_type": "code",
      "metadata": {
        "id": "xyhcA8xD7qIy",
        "colab": {
          "base_uri": "https://localhost:8080/",
          "height": 204
        },
        "outputId": "80504fad-003c-43a1-a7e9-71e9ef7318bc"
      },
      "source": [
        "!wget https://ii.nlm.nih.gov/Web_API/SKR_Web_API_V2_3.jar"
      ],
      "execution_count": null,
      "outputs": [
        {
          "output_type": "stream",
          "text": [
            "--2020-02-08 17:34:14--  https://ii.nlm.nih.gov/Web_API/SKR_Web_API_V2_3.jar\n",
            "Resolving ii.nlm.nih.gov (ii.nlm.nih.gov)... 130.14.53.15, 2607:f220:41e:7053::15\n",
            "Connecting to ii.nlm.nih.gov (ii.nlm.nih.gov)|130.14.53.15|:443... connected.\n",
            "HTTP request sent, awaiting response... 200 OK\n",
            "Length: 1367092 (1.3M) [application/java-archive]\n",
            "Saving to: ‘SKR_Web_API_V2_3.jar’\n",
            "\n",
            "\rSKR_Web_API_V2_3.ja   0%[                    ]       0  --.-KB/s               \rSKR_Web_API_V2_3.ja 100%[===================>]   1.30M  --.-KB/s    in 0.09s   \n",
            "\n",
            "2020-02-08 17:34:14 (14.1 MB/s) - ‘SKR_Web_API_V2_3.jar’ saved [1367092/1367092]\n",
            "\n"
          ],
          "name": "stdout"
        }
      ]
    },
    {
      "cell_type": "code",
      "metadata": {
        "id": "RzM8kHl39s1-"
      },
      "source": [
        "!java sun.tools.jar.Main xf SKR_Web_API_V2_3.jar"
      ],
      "execution_count": null,
      "outputs": []
    },
    {
      "cell_type": "code",
      "metadata": {
        "id": "BrmswdJJ9vHw",
        "colab": {
          "base_uri": "https://localhost:8080/",
          "height": 34
        },
        "outputId": "905f077a-1342-44c2-d3db-0cecfd540728"
      },
      "source": [
        "%cd /content/SKR_Web_API_V2_3"
      ],
      "execution_count": null,
      "outputs": [
        {
          "output_type": "stream",
          "text": [
            "/content/SKR_Web_API_V2_3\n"
          ],
          "name": "stdout"
        }
      ]
    },
    {
      "cell_type": "code",
      "metadata": {
        "id": "kj11IaYD91xq"
      },
      "source": [
        "!/content/SKR_Web_API_V2_3/run.sh /content/SKR_Web_API_V2_3/examples/GenericBatch a.sakapetis@students.uu.nl /content/SKR_Web_API_V2_3/sample.txt\n"
      ],
      "execution_count": null,
      "outputs": []
    },
    {
      "cell_type": "code",
      "metadata": {
        "id": "P7Fr6A7_-9aa"
      },
      "source": [
        "!chmod +x /content/SKR_Web_API_V2_3/run.sh "
      ],
      "execution_count": null,
      "outputs": []
    },
    {
      "cell_type": "code",
      "metadata": {
        "id": "Y9j7U3mUGoJf"
      },
      "source": [
        "!/content/SKR_Web_API_V2_3/run.sh GenericBatchNew --email a.sakapetis@students.uu.nl /content/SKR_Web_API_V2_3/examples/sample.txt"
      ],
      "execution_count": null,
      "outputs": []
    },
    {
      "cell_type": "code",
      "metadata": {
        "id": "KhCmosMDcjKc"
      },
      "source": [
        "!/content/SKR_Web_API_V2_3/run.sh GenericBatchNew --email a.sakapetis@students.uu.nl --command semrep -D -E /content/SKR_Web_API_V2_3/examples/sample.txt"
      ],
      "execution_count": null,
      "outputs": []
    },
    {
      "cell_type": "code",
      "metadata": {
        "id": "K7GbjVH_-4oE"
      },
      "source": [
        "!/content/SKR_Web_API_V2_3/run.sh GenericBatchNew --email a.sakapetis@students.uu.nl --command semrep -D -E /content/try.txt"
      ],
      "execution_count": null,
      "outputs": []
    },
    {
      "cell_type": "markdown",
      "metadata": {
        "id": "0PRrc0aKudMH"
      },
    },
    {
      "cell_type": "code",
      "metadata": {
        "id": "mIkXRKsuo6kH"
      },
      "source": [
        "!/content/SKR_Web_API_V2_3/run.sh GenericBatchNew --email a.sakapetis@students.uu.nl --command semrep -D -E /content/gianadoume_26.txt"
      ],
      "execution_count": null,
      "outputs": []
    },
    {
      "cell_type": "code",
      "metadata": {
        "id": "v2SyuIQHo9IT"
      },
      "source": [
        "!/content/SKR_Web_API_V2_3/run.sh GenericBatchNew --email a.sakapetis@students.uu.nl --command semrep -D -E /content/gianadoume_27.txt"
      ],
      "execution_count": null,
      "outputs": []
    },
    {
      "cell_type": "code",
      "metadata": {
        "id": "8qtRxOhso_Kw"
      },
      "source": [
        "!/content/SKR_Web_API_V2_3/run.sh GenericBatchNew --email a.sakapetis@students.uu.nl --command semrep -D -E /content/gianadoume_28.txt"
      ],
      "execution_count": null,
      "outputs": []
    },
    {
      "cell_type": "code",
      "metadata": {
        "id": "fhXdjh8CpAWr"
      },
      "source": [
        "!/content/SKR_Web_API_V2_3/run.sh GenericBatchNew --email a.sakapetis@students.uu.nl --command semrep -D -E /content/gianadoume_25.txt"
      ],
      "execution_count": null,
      "outputs": []
    }
  ]
}
