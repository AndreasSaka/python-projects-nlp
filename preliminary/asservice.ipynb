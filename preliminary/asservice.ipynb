{
  "nbformat": 4,
  "nbformat_minor": 0,
  "metadata": {
    "colab": {
      "name": "asservice.ipynb",
      "provenance": [],
      "collapsed_sections": [],
      "toc_visible": true
    },
    "kernelspec": {
      "name": "python3",
      "display_name": "Python 3"
    },
    "accelerator": "GPU"
  },
  "cells": [
    {
      "cell_type": "markdown",
      "metadata": {
        "id": "yaO08AEsGMR5"
      },
      "source": [
        "#https://www.kaggle.com/vj1494/covid-19-biobert-semantic-search-engine"
      ]
    },
    {
      "cell_type": "code",
      "metadata": {
        "id": "XGtLII3_Gejk"
      },
      "source": [
        "!pip install biopython\n",
        "!pip install --upgrade biopython\n",
        "!pip install metapub"
      ],
      "execution_count": null,
      "outputs": []
    },
    {
      "cell_type": "code",
      "metadata": {
        "id": "8PGKJSIWEcM2"
      },
      "source": [
        "import Bio\n",
        "import metapub\n",
        "from metapub import PubMedFetcher\n",
        "from Bio import Entrez\n",
        "from Bio import SeqIO\n",
        "from Bio.Entrez import efetch"
      ],
      "execution_count": null,
      "outputs": []
    },
    {
      "cell_type": "code",
      "metadata": {
        "id": "4PLYbp11_zob"
      },
      "source": [
        "from Bio import Medline"
      ],
      "execution_count": null,
      "outputs": []
    },
    {
      "cell_type": "code",
      "metadata": {
        "id": "mDzG_mNlElBK"
      },
      "source": [
        "Entrez.email = \"a.sakapetis@students.uu.nl\""
      ],
      "execution_count": null,
      "outputs": []
    },
    {
      "cell_type": "code",
      "metadata": {
        "id": "I8v7YAUUElsn"
      },
      "source": [
        "def load_pmids_list(pmids_file):\n",
        "    \"\"\"\n",
        "    Return a list of pmids from a text file.\n",
        "    Args:\n",
        "        pmids_file: a text file containing pmids with one pmid in each line.\n",
        "    \"\"\"\n",
        "    assert isinstance(pmids_file, str)\n",
        "    with open(f'/{pmids_file}.txt', 'r', encoding = 'utf8') as f:\n",
        "        pmids_list = [line.strip() for line in f]\n",
        "    return pmids_list"
      ],
      "execution_count": null,
      "outputs": []
    },
    {
      "cell_type": "code",
      "metadata": {
        "id": "98IWkp3uEnIv"
      },
      "source": [
        "def get_pubmed_tiabs(pmids_list):\n",
        "    \"\"\"\n",
        "    Return a dictionary of title and abstract of papers by pmid\n",
        "    in the pmids_list in one query of the pubmed database.\n",
        "    Args:\n",
        "        pmids_list: a list of pmids to query for the title and abstract of papers.\n",
        "    \"\"\"\n",
        "    assert isinstance(pmids_list, list) and len(pmids_list) <= 100000\n",
        "    pubmed_tiabs = {}\n",
        "    records =  Medline.parse(Entrez.efetch(\n",
        "        db=\"pubmed\", id=pmids_list, rettype='medline', retmode='text'\n",
        "        ))\n",
        "    for record in records:\n",
        "        if 'PMID' not in record: continue\n",
        "        pubmed_tiabs[record['PMID']] = {'title': record.get('TI', ''),\n",
        "                                        'abstract': record.get('AB', '')}\n",
        "    return pubmed_tiabs"
      ],
      "execution_count": null,
      "outputs": []
    },
    {
      "cell_type": "code",
      "metadata": {
        "id": "A-QGPQwBEd94"
      },
      "source": [
        "def get_pubmed_tiabs_all(pmids_list):\n",
        "    \"\"\"\n",
        "    Acquire title and abstract of papers in a list of pmids by query the pubmed database\n",
        "    and write the pmid, title and abstract to a csv file.\n",
        "    Args:\n",
        "        pmids_list: a list of pmids to query for the title and abstract of papers.\n",
        "        file_name: a string as name of the csv file\n",
        "    \"\"\"\n",
        "    assert isinstance(pmids_list, list)\n",
        "    len_list = len(pmids_list)\n",
        "    df_tiabs = {'pmid':[], 'title':[], 'abstract':[]}\n",
        "    for i in range(0, len_list, 10000):\n",
        "        pmid_list = pmids_list[i:i+10000] if i+10000 <= len_list else pmids_list[i:]\n",
        "        pubmed_tiabs = get_pubmed_tiabs(pmid_list)\n",
        "        for k,v in pubmed_tiabs.items():\n",
        "            df_tiabs['pmid'].append(k)\n",
        "            df_tiabs['title'].append(v['title'])\n",
        "            df_tiabs['abstract'].append(v['abstract'])\n",
        "    return pd.DataFrame(data=df_tiabs)\n"
      ],
      "execution_count": null,
      "outputs": []
    },
    {
      "cell_type": "code",
      "metadata": {
        "id": "xsr9uunQAtqJ"
      },
      "source": [
        "import pandas as pd"
      ],
      "execution_count": null,
      "outputs": []
    },
    {
      "cell_type": "code",
      "metadata": {
        "id": "lG-DlHY2EYkw"
      },
      "source": [
        "a = load_pmids_list('content/251')"
      ],
      "execution_count": null,
      "outputs": []
    },
    {
      "cell_type": "code",
      "metadata": {
        "id": "LUsnrJIjEuHs"
      },
      "source": [
        "b = get_pubmed_tiabs(a)"
      ],
      "execution_count": null,
      "outputs": []
    },
    {
      "cell_type": "code",
      "metadata": {
        "id": "Dt6pO2jOEvMN"
      },
      "source": [
        "data = get_pubmed_tiabs_all(a)"
      ],
      "execution_count": null,
      "outputs": []
    },
    {
      "cell_type": "code",
      "metadata": {
        "id": "Zbsgtj-MEZZZ"
      },
      "source": [
        "from scipy.spatial.distance import cdist\n",
        "import subprocess\n",
        "import numpy as np\n",
        "import pandas as pd\n",
        "import matplotlib.pyplot as plt\n",
        "import pickle as pkl\n",
        "from ipywidgets import interact, widgets # this is what makes the dataframe interactive"
      ],
      "execution_count": null,
      "outputs": []
    },
    {
      "cell_type": "code",
      "metadata": {
        "id": "7_5uF82vBA3b"
      },
      "source": [
        "!pip uninstall tensorflow==2.1.0 --yes\n",
        "!pip install bert-serving-server\n",
        "!pip install bert-serving-client\n",
        "!pip install --upgrade ipykernel\n",
        "!pip install tensorflow==1.13.1"
      ],
      "execution_count": null,
      "outputs": []
    },
    {
      "cell_type": "code",
      "metadata": {
        "id": "vfi-gjhLBpOB"
      },
      "source": [
        "!wget https://github.com/naver/biobert-pretrained/releases/download/v1.1-pubmed/biobert_v1.1_pubmed.tar.gz"
      ],
      "execution_count": null,
      "outputs": []
    },
    {
      "cell_type": "code",
      "metadata": {
        "id": "HbMUmG1OBspB"
      },
      "source": [
        "!tar xvzf biobert_v1.1_pubmed.tar.gz\n",
        "%cd biobert_v1.1_pubmed\n"
      ],
      "execution_count": null,
      "outputs": []
    },
    {
      "cell_type": "code",
      "metadata": {
        "id": "7p0n1T3hCLoJ"
      },
      "source": [
        "!rename 's/model.ckpt-1000000.data-00000-of-00001/bert_model.ckpt.data-00000-of-00001/' *\n",
        "!rename 's/model.ckpt-1000000.meta/bert_model.ckpt.meta/' *\n",
        "!rename 's/model.ckpt-1000000.index/bert_model.ckpt.index/' *\n",
        "!ls #/kaggle/working/biobert_v1.1_pubmed\n",
        "#!port_num=5555"
      ],
      "execution_count": null,
      "outputs": []
    },
    {
      "cell_type": "code",
      "metadata": {
        "id": "QT9hTKy1CNnF"
      },
      "source": [
        "import tensorflow as tf\n",
        "print(tf.__version__)"
      ],
      "execution_count": null,
      "outputs": []
    },
    {
      "cell_type": "code",
      "metadata": {
        "id": "6aCmIqW0COZT"
      },
      "source": [
        "import pandas as pd\n",
        "from bert_serving.client import BertClient\n",
        "import numpy as np\n",
        "from bert_serving.server.helper import get_args_parser\n",
        "from bert_serving.server import BertServer"
      ],
      "execution_count": null,
      "outputs": []
    },
    {
      "cell_type": "code",
      "metadata": {
        "id": "TwNnHbxuCSYK"
      },
      "source": [
        "a = get_args_parser().parse_args(['-model_dir', '/content/biobert_v1.1_pubmed',\n",
        "                                     '-port', '5555',\n",
        "                                     '-port_out', '5556',\n",
        "                                     '-max_seq_len', 'NONE',\n",
        "                                     '-mask_cls_sep',\n",
        "                                     '-cpu',\n",
        "                                     '-num_worker','4'])\n",
        "server = BertServer(a)\n",
        "server.start()"
      ],
      "execution_count": null,
      "outputs": []
    },
    {
      "cell_type": "code",
      "metadata": {
        "id": "kLjS-M7tCcYg"
      },
      "source": [
        "bc = BertClient(port=5555, port_out=5556)"
      ],
      "execution_count": null,
      "outputs": []
    },
    {
      "cell_type": "code",
      "metadata": {
        "id": "07moHVsvE3al"
      },
      "source": [
        "#biorx_df.head()"
      ],
      "execution_count": null,
      "outputs": []
    },
    {
      "cell_type": "code",
      "metadata": {
        "id": "KH09Si7PChkO"
      },
      "source": [
        "biorx_df = data\n",
        "biorx_lst = biorx_df['title'].astype(str).to_list()\n",
        "print(biorx_lst)"
      ],
      "execution_count": null,
      "outputs": []
    },
    {
      "cell_type": "code",
      "metadata": {
        "id": "Ed0BRJzjFCvC"
      },
      "source": [
        "doc_vecs = bc.encode(biorx_lst)\n",
        "print(doc_vecs.shape)"
      ],
      "execution_count": null,
      "outputs": []
    },
    {
      "cell_type": "code",
      "metadata": {
        "id": "wMZWGLzGFEFZ"
      },
      "source": [
        "def find_similar_articles(query,topk):\n",
        "    query_vec = bc.encode([query])[0]\n",
        "    score = np.sum(query_vec * doc_vecs, axis=1) / np.linalg.norm(doc_vecs, axis=1)\n",
        "    topk_idx = np.argsort(score)[::-1][:topk]\n",
        "    for idx in topk_idx:\n",
        "        print('> %s\\t%s' % (score[idx], biorx_lst[idx]))"
      ],
      "execution_count": null,
      "outputs": []
    },
    {
      "cell_type": "code",
      "metadata": {
        "id": "TpuWNXCsFIrI"
      },
      "source": [
        "find_similar_articles(\"chlorophenoxyacetic\",10)"
      ],
      "execution_count": null,
      "outputs": []
    }
  ]
}